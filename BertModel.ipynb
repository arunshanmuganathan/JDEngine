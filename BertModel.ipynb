{
 "cells": [
  {
   "cell_type": "code",
   "execution_count": 58,
   "metadata": {
    "collapsed": true
   },
   "outputs": [],
   "source": [
    "# Import Libraries\n",
    "import hub as hub\n",
    "import pandas as pd\n",
    "import numpy as np\n",
    "import re\n",
    "\n",
    "import matplotlib\n",
    "import matplotlib.pyplot as plt\n",
    "import seaborn as sns\n",
    "from wordcloud import WordCloud\n",
    "from sklearn.feature_extraction.text import CountVectorizer\n",
    "from sklearn import preprocessing\n",
    "\n",
    "import nltk\n",
    "from nltk.tokenize import sent_tokenize, word_tokenize, RegexpTokenizer\n",
    "from nltk.corpus import stopwords\n",
    "from nltk import PorterStemmer\n",
    "from nltk import WordNetLemmatizer\n",
    "from sklearn.feature_extraction.text import TfidfVectorizer\n",
    "from sklearn.feature_selection import chi2\n",
    "\n",
    "from sklearn.model_selection import train_test_split\n",
    "from sklearn.linear_model import LogisticRegression\n",
    "from sklearn.naive_bayes import MultinomialNB\n",
    "from sklearn.svm import LinearSVC\n",
    "from sklearn.ensemble import RandomForestClassifier\n",
    "from sklearn.model_selection import cross_val_score\n",
    "\n",
    "import tensorflow as tf\n",
    "import tensorflow_hub as hub\n",
    "import tensorflow_text as text\n",
    "\n",
    "font = {'family' : 'normal',\n",
    "        'weight' : 'bold',\n",
    "        'size'   : 22}"
   ]
  },
  {
   "cell_type": "code",
   "execution_count": 2,
   "outputs": [
    {
     "name": "stdout",
     "output_type": "stream",
     "text": [
      "<class 'pandas.core.frame.DataFrame'>\n",
      "RangeIndex: 5413 entries, 0 to 5412\n",
      "Data columns (total 11 columns):\n",
      " #   Column              Non-Null Count  Dtype \n",
      "---  ------              --------------  ----- \n",
      " 0   Unnamed: 0          5413 non-null   int64 \n",
      " 1   Job_Title           5413 non-null   object\n",
      " 2   Description         5413 non-null   object\n",
      " 3   lower_description   5413 non-null   object\n",
      " 4   word_tokenized      5413 non-null   object\n",
      " 5   sentence_tokenized  5413 non-null   object\n",
      " 6   word_count          5413 non-null   int64 \n",
      " 7   sentence_count      5413 non-null   int64 \n",
      " 8   clean_words         5413 non-null   object\n",
      " 9   clean_stemmed       5413 non-null   object\n",
      " 10  clean_lemmed        5413 non-null   object\n",
      "dtypes: int64(3), object(8)\n",
      "memory usage: 465.3+ KB\n"
     ]
    }
   ],
   "source": [
    "# Read Dataset\n",
    "df_processed = pd.read_csv(r'processed_data.csv')\n",
    "df_processed.info()"
   ],
   "metadata": {
    "collapsed": false,
    "pycharm": {
     "name": "#%%\n"
    }
   }
  },
  {
   "cell_type": "code",
   "execution_count": 3,
   "outputs": [
    {
     "data": {
      "text/plain": "   Unnamed: 0                                  Job_Title  \\\n0           0                             Data Scientist   \n1           1                             Data Scientist   \n2           2                             Data Scientist   \n3           3  Graduate Studies Program - Data Scientist   \n4           4                           Data Scientist I   \n\n                                         Description  \\\n0  POSITION SUMMARY, The Business Analyst role is...   \n1  What do we need?, You to have an amazing perso...   \n2  Validate, analyze, and conduct statistical ana...   \n3  Full time, Washington, DC metro area, Starting...   \n4  Assist in consultations with business partners...   \n\n                                   lower_description  \\\n0  position summary, the business analyst role is...   \n1  what do we need?, you to have an amazing perso...   \n2  validate, analyze, and conduct statistical ana...   \n3  full time, washington, dc metro area, starting...   \n4  assist in consultations with business partners...   \n\n                                      word_tokenized  \\\n0  ['position', 'summary', 'the', 'business', 'an...   \n1  ['what', 'do', 'we', 'need', 'you', 'to', 'hav...   \n2  ['validate', 'analyze', 'and', 'conduct', 'sta...   \n3  ['full', 'time', 'washington', 'dc', 'metro', ...   \n4  ['assist', 'in', 'consultations', 'with', 'bus...   \n\n                                  sentence_tokenized  word_count  \\\n0  ['POSITION SUMMARY, The Business Analyst role ...         424   \n1  ['What do we need?, You to have an amazing per...         286   \n2  ['Validate, analyze, and conduct statistical a...         314   \n3  ['Full time, Washington, DC metro area, Starti...         297   \n4  ['Assist in consultations with business partne...         316   \n\n   sentence_count                                        clean_words  \\\n0              25  ['position', 'summary', 'business', 'analyst',...   \n1              10  ['need', 'amazing', 'personality', 'communicat...   \n2              24  ['validate', 'analyze', 'conduct', 'statistica...   \n3              13  ['full', 'time', 'washington', 'dc', 'metro', ...   \n4               7  ['assist', 'consultations', 'business', 'partn...   \n\n                                       clean_stemmed  \\\n0  ['posit', 'summari', 'busi', 'analyst', 'role'...   \n1  ['need', 'amaz', 'person', 'commun', 'style', ...   \n2  ['valid', 'analyz', 'conduct', 'statist', 'ana...   \n3  ['full', 'time', 'washington', 'dc', 'metro', ...   \n4  ['assist', 'consult', 'busi', 'partner', 'inte...   \n\n                                        clean_lemmed  \n0  ['position', 'summary', 'business', 'analyst',...  \n1  ['need', 'amazing', 'personality', 'communicat...  \n2  ['validate', 'analyze', 'conduct', 'statistica...  \n3  ['full', 'time', 'washington', 'dc', 'metro', ...  \n4  ['assist', 'consultation', 'business', 'partne...  ",
      "text/html": "<div>\n<style scoped>\n    .dataframe tbody tr th:only-of-type {\n        vertical-align: middle;\n    }\n\n    .dataframe tbody tr th {\n        vertical-align: top;\n    }\n\n    .dataframe thead th {\n        text-align: right;\n    }\n</style>\n<table border=\"1\" class=\"dataframe\">\n  <thead>\n    <tr style=\"text-align: right;\">\n      <th></th>\n      <th>Unnamed: 0</th>\n      <th>Job_Title</th>\n      <th>Description</th>\n      <th>lower_description</th>\n      <th>word_tokenized</th>\n      <th>sentence_tokenized</th>\n      <th>word_count</th>\n      <th>sentence_count</th>\n      <th>clean_words</th>\n      <th>clean_stemmed</th>\n      <th>clean_lemmed</th>\n    </tr>\n  </thead>\n  <tbody>\n    <tr>\n      <th>0</th>\n      <td>0</td>\n      <td>Data Scientist</td>\n      <td>POSITION SUMMARY, The Business Analyst role is...</td>\n      <td>position summary, the business analyst role is...</td>\n      <td>['position', 'summary', 'the', 'business', 'an...</td>\n      <td>['POSITION SUMMARY, The Business Analyst role ...</td>\n      <td>424</td>\n      <td>25</td>\n      <td>['position', 'summary', 'business', 'analyst',...</td>\n      <td>['posit', 'summari', 'busi', 'analyst', 'role'...</td>\n      <td>['position', 'summary', 'business', 'analyst',...</td>\n    </tr>\n    <tr>\n      <th>1</th>\n      <td>1</td>\n      <td>Data Scientist</td>\n      <td>What do we need?, You to have an amazing perso...</td>\n      <td>what do we need?, you to have an amazing perso...</td>\n      <td>['what', 'do', 'we', 'need', 'you', 'to', 'hav...</td>\n      <td>['What do we need?, You to have an amazing per...</td>\n      <td>286</td>\n      <td>10</td>\n      <td>['need', 'amazing', 'personality', 'communicat...</td>\n      <td>['need', 'amaz', 'person', 'commun', 'style', ...</td>\n      <td>['need', 'amazing', 'personality', 'communicat...</td>\n    </tr>\n    <tr>\n      <th>2</th>\n      <td>2</td>\n      <td>Data Scientist</td>\n      <td>Validate, analyze, and conduct statistical ana...</td>\n      <td>validate, analyze, and conduct statistical ana...</td>\n      <td>['validate', 'analyze', 'and', 'conduct', 'sta...</td>\n      <td>['Validate, analyze, and conduct statistical a...</td>\n      <td>314</td>\n      <td>24</td>\n      <td>['validate', 'analyze', 'conduct', 'statistica...</td>\n      <td>['valid', 'analyz', 'conduct', 'statist', 'ana...</td>\n      <td>['validate', 'analyze', 'conduct', 'statistica...</td>\n    </tr>\n    <tr>\n      <th>3</th>\n      <td>3</td>\n      <td>Graduate Studies Program - Data Scientist</td>\n      <td>Full time, Washington, DC metro area, Starting...</td>\n      <td>full time, washington, dc metro area, starting...</td>\n      <td>['full', 'time', 'washington', 'dc', 'metro', ...</td>\n      <td>['Full time, Washington, DC metro area, Starti...</td>\n      <td>297</td>\n      <td>13</td>\n      <td>['full', 'time', 'washington', 'dc', 'metro', ...</td>\n      <td>['full', 'time', 'washington', 'dc', 'metro', ...</td>\n      <td>['full', 'time', 'washington', 'dc', 'metro', ...</td>\n    </tr>\n    <tr>\n      <th>4</th>\n      <td>4</td>\n      <td>Data Scientist I</td>\n      <td>Assist in consultations with business partners...</td>\n      <td>assist in consultations with business partners...</td>\n      <td>['assist', 'in', 'consultations', 'with', 'bus...</td>\n      <td>['Assist in consultations with business partne...</td>\n      <td>316</td>\n      <td>7</td>\n      <td>['assist', 'consultations', 'business', 'partn...</td>\n      <td>['assist', 'consult', 'busi', 'partner', 'inte...</td>\n      <td>['assist', 'consultation', 'business', 'partne...</td>\n    </tr>\n  </tbody>\n</table>\n</div>"
     },
     "execution_count": 3,
     "metadata": {},
     "output_type": "execute_result"
    }
   ],
   "source": [
    "df_processed.head()"
   ],
   "metadata": {
    "collapsed": false,
    "pycharm": {
     "name": "#%%\n"
    }
   }
  },
  {
   "cell_type": "code",
   "execution_count": 4,
   "outputs": [
    {
     "data": {
      "text/plain": "                                   Job_Title  \\\n0                             Data Scientist   \n1                             Data Scientist   \n2                             Data Scientist   \n3  Graduate Studies Program - Data Scientist   \n4                           Data Scientist I   \n\n                                        clean_lemmed  \n0  ['position', 'summary', 'business', 'analyst',...  \n1  ['need', 'amazing', 'personality', 'communicat...  \n2  ['validate', 'analyze', 'conduct', 'statistica...  \n3  ['full', 'time', 'washington', 'dc', 'metro', ...  \n4  ['assist', 'consultation', 'business', 'partne...  ",
      "text/html": "<div>\n<style scoped>\n    .dataframe tbody tr th:only-of-type {\n        vertical-align: middle;\n    }\n\n    .dataframe tbody tr th {\n        vertical-align: top;\n    }\n\n    .dataframe thead th {\n        text-align: right;\n    }\n</style>\n<table border=\"1\" class=\"dataframe\">\n  <thead>\n    <tr style=\"text-align: right;\">\n      <th></th>\n      <th>Job_Title</th>\n      <th>clean_lemmed</th>\n    </tr>\n  </thead>\n  <tbody>\n    <tr>\n      <th>0</th>\n      <td>Data Scientist</td>\n      <td>['position', 'summary', 'business', 'analyst',...</td>\n    </tr>\n    <tr>\n      <th>1</th>\n      <td>Data Scientist</td>\n      <td>['need', 'amazing', 'personality', 'communicat...</td>\n    </tr>\n    <tr>\n      <th>2</th>\n      <td>Data Scientist</td>\n      <td>['validate', 'analyze', 'conduct', 'statistica...</td>\n    </tr>\n    <tr>\n      <th>3</th>\n      <td>Graduate Studies Program - Data Scientist</td>\n      <td>['full', 'time', 'washington', 'dc', 'metro', ...</td>\n    </tr>\n    <tr>\n      <th>4</th>\n      <td>Data Scientist I</td>\n      <td>['assist', 'consultation', 'business', 'partne...</td>\n    </tr>\n  </tbody>\n</table>\n</div>"
     },
     "execution_count": 4,
     "metadata": {},
     "output_type": "execute_result"
    }
   ],
   "source": [
    "# Select job_title and lemmed\n",
    "col_names = [\"Job_Title\", \"clean_lemmed\"]\n",
    "df_lemmed = df_processed[col_names]\n",
    "df_lemmed.head()"
   ],
   "metadata": {
    "collapsed": false,
    "pycharm": {
     "name": "#%%\n"
    }
   }
  },
  {
   "cell_type": "code",
   "execution_count": 5,
   "outputs": [
    {
     "name": "stdout",
     "output_type": "stream",
     "text": [
      "<class 'pandas.core.frame.DataFrame'>\n",
      "RangeIndex: 5413 entries, 0 to 5412\n",
      "Data columns (total 2 columns):\n",
      " #   Column        Non-Null Count  Dtype \n",
      "---  ------        --------------  ----- \n",
      " 0   Job_Title     5413 non-null   object\n",
      " 1   clean_lemmed  5413 non-null   object\n",
      "dtypes: object(2)\n",
      "memory usage: 84.7+ KB\n"
     ]
    }
   ],
   "source": [
    "df_lemmed.info()"
   ],
   "metadata": {
    "collapsed": false,
    "pycharm": {
     "name": "#%%\n"
    }
   }
  },
  {
   "cell_type": "code",
   "execution_count": 6,
   "outputs": [],
   "source": [
    "vc = df_lemmed[\"Job_Title\"].value_counts()"
   ],
   "metadata": {
    "collapsed": false,
    "pycharm": {
     "name": "#%%\n"
    }
   }
  },
  {
   "cell_type": "code",
   "execution_count": 7,
   "outputs": [],
   "source": [
    "df_new = vc[vc > 40]"
   ],
   "metadata": {
    "collapsed": false,
    "pycharm": {
     "name": "#%%\n"
    }
   }
  },
  {
   "cell_type": "code",
   "execution_count": 8,
   "outputs": [
    {
     "name": "stdout",
     "output_type": "stream",
     "text": [
      "Data Scientist              663\n",
      "Data Engineer               375\n",
      "Data Analyst                373\n",
      "Senior Data Scientist       197\n",
      "Senior Data Engineer        135\n",
      "Senior Data Analyst          82\n",
      "Big Data Engineer            78\n",
      "Principal Data Scientist     60\n",
      "Sr. Data Scientist           43\n",
      "Lead Data Scientist          42\n",
      "Name: Job_Title, dtype: int64\n"
     ]
    }
   ],
   "source": [
    "print(df_new)"
   ],
   "metadata": {
    "collapsed": false,
    "pycharm": {
     "name": "#%%\n"
    }
   }
  },
  {
   "cell_type": "code",
   "execution_count": 9,
   "outputs": [],
   "source": [
    "df_10 = df_lemmed.loc[df_lemmed['Job_Title'].isin([\"Data Scientist\", \"Data Engineer\", \"Data Analyst\", \"Senior Data Scientist\", \"Senior Data Engineer\", \"Senior Data Analyst\", \"Big Data Engineer\", \"Principal Data Scientist\", \"Sr. Data Scientist\", \"Lead Data Scientist\"])]"
   ],
   "metadata": {
    "collapsed": false,
    "pycharm": {
     "name": "#%%\n"
    }
   }
  },
  {
   "cell_type": "code",
   "execution_count": 61,
   "outputs": [],
   "source": [
    "df_5 = df_lemmed.loc[df_lemmed['Job_Title'].isin([\"Data Scientist\", \"Data Engineer\", \"Data Analyst\", \"Senior Data Scientist\"])]"
   ],
   "metadata": {
    "collapsed": false,
    "pycharm": {
     "name": "#%%\n"
    }
   }
  },
  {
   "cell_type": "code",
   "execution_count": 10,
   "outputs": [
    {
     "name": "stdout",
     "output_type": "stream",
     "text": [
      "<class 'pandas.core.frame.DataFrame'>\n",
      "Int64Index: 2048 entries, 0 to 5408\n",
      "Data columns (total 2 columns):\n",
      " #   Column        Non-Null Count  Dtype \n",
      "---  ------        --------------  ----- \n",
      " 0   Job_Title     2048 non-null   object\n",
      " 1   clean_lemmed  2048 non-null   object\n",
      "dtypes: object(2)\n",
      "memory usage: 48.0+ KB\n"
     ]
    }
   ],
   "source": [
    "df_10.info()"
   ],
   "metadata": {
    "collapsed": false,
    "pycharm": {
     "name": "#%%\n"
    }
   }
  },
  {
   "cell_type": "code",
   "execution_count": 11,
   "outputs": [],
   "source": [
    "df1 = df_10[df_10[\"Job_Title\"]==\"Data Scientist\"]\n",
    "df2 = df_10[df_10[\"Job_Title\"]==\"Data Engineer\"]\n",
    "df3 = df_10[df_10[\"Job_Title\"]==\"Data Analyst\"]\n",
    "df4 = df_10[df_10[\"Job_Title\"]==\"Senior Data Scientist\"]\n",
    "df5 = df_10[df_10[\"Job_Title\"]==\"Senior Data Engineer\"]\n",
    "df6 = df_10[df_10[\"Job_Title\"]==\"Senior Data Analyst\"]\n",
    "df7 = df_10[df_10[\"Job_Title\"]==\"Big Data Engineer\"]\n",
    "df8 = df_10[df_10[\"Job_Title\"]==\"Principal Data Scientist\"]\n",
    "df9 = df_10[df_10[\"Job_Title\"]==\"Sr. Data Scientist\"]\n",
    "df10 = df_10[df_10[\"Job_Title\"]==\"Lead Data Scientist\"]\n"
   ],
   "metadata": {
    "collapsed": false,
    "pycharm": {
     "name": "#%%\n"
    }
   }
  },
  {
   "cell_type": "code",
   "execution_count": 12,
   "outputs": [],
   "source": [
    "# df1_down_sampled = df1.sample(n= 42)\n",
    "# df2_down_sampled = df2.sample(n= 42)\n",
    "# df3_down_sampled = df3.sample(n= 42)\n",
    "# df4_down_sampled = df4.sample(n= 42)\n",
    "# df5_down_sampled = df5.sample(n= 42)\n",
    "# df6_down_sampled = df6.sample(n= 42)\n",
    "# df7_down_sampled = df7.sample(n= 42)\n",
    "# df8_down_sampled = df8.sample(n= 42)\n",
    "# df9_down_sampled = df9.sample(n= 42)\n",
    "# df10_down_sampled = df10.sample(n= 42)"
   ],
   "metadata": {
    "collapsed": false,
    "pycharm": {
     "name": "#%%\n"
    }
   }
  },
  {
   "cell_type": "code",
   "execution_count": 62,
   "outputs": [],
   "source": [
    "df1_down_sampled = df1.sample(n= 100)\n",
    "df2_down_sampled = df2.sample(n= 100)\n",
    "df3_down_sampled = df3.sample(n= 100)\n",
    "df4_down_sampled = df4.sample(n= 100)\n",
    "df5_down_sampled = df5.sample(n= 100)"
   ],
   "metadata": {
    "collapsed": false,
    "pycharm": {
     "name": "#%%\n"
    }
   }
  },
  {
   "cell_type": "code",
   "execution_count": 13,
   "outputs": [
    {
     "name": "stdout",
     "output_type": "stream",
     "text": [
      "<class 'pandas.core.frame.DataFrame'>\n",
      "Int64Index: 42 entries, 501 to 1287\n",
      "Data columns (total 2 columns):\n",
      " #   Column        Non-Null Count  Dtype \n",
      "---  ------        --------------  ----- \n",
      " 0   Job_Title     42 non-null     object\n",
      " 1   clean_lemmed  42 non-null     object\n",
      "dtypes: object(2)\n",
      "memory usage: 1008.0+ bytes\n"
     ]
    }
   ],
   "source": [
    "df1_down_sampled.info()"
   ],
   "metadata": {
    "collapsed": false,
    "pycharm": {
     "name": "#%%\n"
    }
   }
  },
  {
   "cell_type": "code",
   "execution_count": 63,
   "outputs": [],
   "source": [
    "df_down_sampled = pd.concat([df1_down_sampled, df2_down_sampled, df3_down_sampled, df4_down_sampled, df5_down_sampled])"
   ],
   "metadata": {
    "collapsed": false,
    "pycharm": {
     "name": "#%%\n"
    }
   }
  },
  {
   "cell_type": "code",
   "execution_count": 64,
   "outputs": [
    {
     "name": "stdout",
     "output_type": "stream",
     "text": [
      "<class 'pandas.core.frame.DataFrame'>\n",
      "Int64Index: 500 entries, 1028 to 4913\n",
      "Data columns (total 2 columns):\n",
      " #   Column        Non-Null Count  Dtype \n",
      "---  ------        --------------  ----- \n",
      " 0   Job_Title     500 non-null    object\n",
      " 1   clean_lemmed  500 non-null    object\n",
      "dtypes: object(2)\n",
      "memory usage: 11.7+ KB\n"
     ]
    }
   ],
   "source": [
    "df_down_sampled.info()"
   ],
   "metadata": {
    "collapsed": false,
    "pycharm": {
     "name": "#%%\n"
    }
   }
  },
  {
   "cell_type": "code",
   "execution_count": 65,
   "outputs": [
    {
     "data": {
      "text/plain": "Data Scientist           100\nData Engineer            100\nData Analyst             100\nSenior Data Scientist    100\nSenior Data Engineer     100\nName: Job_Title, dtype: int64"
     },
     "execution_count": 65,
     "metadata": {},
     "output_type": "execute_result"
    }
   ],
   "source": [
    "df_down_sampled['Job_Title'].value_counts()"
   ],
   "metadata": {
    "collapsed": false,
    "pycharm": {
     "name": "#%%\n"
    }
   }
  },
  {
   "cell_type": "code",
   "execution_count": 66,
   "outputs": [],
   "source": [
    "y = preprocessing.LabelEncoder()\n",
    "y.fit(df_down_sampled.Job_Title)\n",
    "label_encoded = y.transform(df_down_sampled.Job_Title)\n",
    "label_encoded_df = pd.DataFrame(label_encoded, columns=['JobTitle_Encoded'])"
   ],
   "metadata": {
    "collapsed": false,
    "pycharm": {
     "name": "#%%\n"
    }
   }
  },
  {
   "cell_type": "code",
   "execution_count": 67,
   "outputs": [
    {
     "data": {
      "text/plain": "   JobTitle_Encoded\n0                 2\n1                 2\n2                 2\n3                 2\n4                 2",
      "text/html": "<div>\n<style scoped>\n    .dataframe tbody tr th:only-of-type {\n        vertical-align: middle;\n    }\n\n    .dataframe tbody tr th {\n        vertical-align: top;\n    }\n\n    .dataframe thead th {\n        text-align: right;\n    }\n</style>\n<table border=\"1\" class=\"dataframe\">\n  <thead>\n    <tr style=\"text-align: right;\">\n      <th></th>\n      <th>JobTitle_Encoded</th>\n    </tr>\n  </thead>\n  <tbody>\n    <tr>\n      <th>0</th>\n      <td>2</td>\n    </tr>\n    <tr>\n      <th>1</th>\n      <td>2</td>\n    </tr>\n    <tr>\n      <th>2</th>\n      <td>2</td>\n    </tr>\n    <tr>\n      <th>3</th>\n      <td>2</td>\n    </tr>\n    <tr>\n      <th>4</th>\n      <td>2</td>\n    </tr>\n  </tbody>\n</table>\n</div>"
     },
     "execution_count": 67,
     "metadata": {},
     "output_type": "execute_result"
    }
   ],
   "source": [
    "label_encoded_df.head()"
   ],
   "metadata": {
    "collapsed": false,
    "pycharm": {
     "name": "#%%\n"
    }
   }
  },
  {
   "cell_type": "code",
   "execution_count": 68,
   "outputs": [],
   "source": [
    "df_encoded = df_down_sampled.reset_index(drop=True)"
   ],
   "metadata": {
    "collapsed": false,
    "pycharm": {
     "name": "#%%\n"
    }
   }
  },
  {
   "cell_type": "code",
   "execution_count": 69,
   "outputs": [],
   "source": [
    "df_encoded = df_encoded.join(label_encoded_df)"
   ],
   "metadata": {
    "collapsed": false,
    "pycharm": {
     "name": "#%%\n"
    }
   }
  },
  {
   "cell_type": "code",
   "execution_count": 71,
   "outputs": [
    {
     "data": {
      "text/plain": "                Job_Title                                       clean_lemmed  \\\n0          Data Scientist  ['science', 'technology', 'mission', '60', 'ye...   \n1          Data Scientist  ['utilizing', 'feature', 'billion', 'transacti...   \n2          Data Scientist  ['design', 'implement', 'data', 'analysis', 'd...   \n3          Data Scientist  ['master', 'phd', 'degree', 'industrial', 'eng...   \n4          Data Scientist  ['symantec', 'cloudsoc', 'leader', 'data', 'sc...   \n..                    ...                                                ...   \n495  Senior Data Engineer  ['capital', 'one', 'building', 'leading', 'inf...   \n496  Senior Data Engineer  ['requisition', 'industry', 'wb', 'business', ...   \n497  Senior Data Engineer  ['description', 'responsibility', 'senior', 's...   \n498  Senior Data Engineer  ['5', 'year', 'experience', 'data', 'engineeri...   \n499  Senior Data Engineer  ['senior', 'data', 'engineer', 'looking', 'bri...   \n\n     JobTitle_Encoded  \n0                   2  \n1                   2  \n2                   2  \n3                   2  \n4                   2  \n..                ...  \n495                 3  \n496                 3  \n497                 3  \n498                 3  \n499                 3  \n\n[500 rows x 3 columns]",
      "text/html": "<div>\n<style scoped>\n    .dataframe tbody tr th:only-of-type {\n        vertical-align: middle;\n    }\n\n    .dataframe tbody tr th {\n        vertical-align: top;\n    }\n\n    .dataframe thead th {\n        text-align: right;\n    }\n</style>\n<table border=\"1\" class=\"dataframe\">\n  <thead>\n    <tr style=\"text-align: right;\">\n      <th></th>\n      <th>Job_Title</th>\n      <th>clean_lemmed</th>\n      <th>JobTitle_Encoded</th>\n    </tr>\n  </thead>\n  <tbody>\n    <tr>\n      <th>0</th>\n      <td>Data Scientist</td>\n      <td>['science', 'technology', 'mission', '60', 'ye...</td>\n      <td>2</td>\n    </tr>\n    <tr>\n      <th>1</th>\n      <td>Data Scientist</td>\n      <td>['utilizing', 'feature', 'billion', 'transacti...</td>\n      <td>2</td>\n    </tr>\n    <tr>\n      <th>2</th>\n      <td>Data Scientist</td>\n      <td>['design', 'implement', 'data', 'analysis', 'd...</td>\n      <td>2</td>\n    </tr>\n    <tr>\n      <th>3</th>\n      <td>Data Scientist</td>\n      <td>['master', 'phd', 'degree', 'industrial', 'eng...</td>\n      <td>2</td>\n    </tr>\n    <tr>\n      <th>4</th>\n      <td>Data Scientist</td>\n      <td>['symantec', 'cloudsoc', 'leader', 'data', 'sc...</td>\n      <td>2</td>\n    </tr>\n    <tr>\n      <th>...</th>\n      <td>...</td>\n      <td>...</td>\n      <td>...</td>\n    </tr>\n    <tr>\n      <th>495</th>\n      <td>Senior Data Engineer</td>\n      <td>['capital', 'one', 'building', 'leading', 'inf...</td>\n      <td>3</td>\n    </tr>\n    <tr>\n      <th>496</th>\n      <td>Senior Data Engineer</td>\n      <td>['requisition', 'industry', 'wb', 'business', ...</td>\n      <td>3</td>\n    </tr>\n    <tr>\n      <th>497</th>\n      <td>Senior Data Engineer</td>\n      <td>['description', 'responsibility', 'senior', 's...</td>\n      <td>3</td>\n    </tr>\n    <tr>\n      <th>498</th>\n      <td>Senior Data Engineer</td>\n      <td>['5', 'year', 'experience', 'data', 'engineeri...</td>\n      <td>3</td>\n    </tr>\n    <tr>\n      <th>499</th>\n      <td>Senior Data Engineer</td>\n      <td>['senior', 'data', 'engineer', 'looking', 'bri...</td>\n      <td>3</td>\n    </tr>\n  </tbody>\n</table>\n<p>500 rows × 3 columns</p>\n</div>"
     },
     "execution_count": 71,
     "metadata": {},
     "output_type": "execute_result"
    }
   ],
   "source": [
    "df_encoded"
   ],
   "metadata": {
    "collapsed": false,
    "pycharm": {
     "name": "#%%\n"
    }
   }
  },
  {
   "cell_type": "code",
   "execution_count": 72,
   "outputs": [],
   "source": [
    "tfidf = TfidfVectorizer(sublinear_tf=True, min_df=5,\n",
    "                        ngram_range=(1, 2),\n",
    "                        )"
   ],
   "metadata": {
    "collapsed": false,
    "pycharm": {
     "name": "#%%\n"
    }
   }
  },
  {
   "cell_type": "code",
   "execution_count": 73,
   "outputs": [],
   "source": [
    "# We transform each complaint into a vector\n",
    "features = tfidf.fit_transform(df_encoded.clean_lemmed).toarray()"
   ],
   "metadata": {
    "collapsed": false,
    "pycharm": {
     "name": "#%%\n"
    }
   }
  },
  {
   "cell_type": "code",
   "execution_count": 74,
   "outputs": [],
   "source": [
    "labels = df_encoded.JobTitle_Encoded"
   ],
   "metadata": {
    "collapsed": false,
    "pycharm": {
     "name": "#%%\n"
    }
   }
  },
  {
   "cell_type": "code",
   "execution_count": 75,
   "outputs": [],
   "source": [
    "features.shape\n",
    "JobTitle_Encoded_df = df_encoded[['Job_Title', 'JobTitle_Encoded']].drop_duplicates()\n",
    "# Dictionaries\n",
    "Encoded_to_Title = dict(JobTitle_Encoded_df.values)\n",
    "Title_to_Encoded = dict(JobTitle_Encoded_df[['JobTitle_Encoded', 'Job_Title']].values)"
   ],
   "metadata": {
    "collapsed": false,
    "pycharm": {
     "name": "#%%\n"
    }
   }
  },
  {
   "cell_type": "code",
   "execution_count": 76,
   "outputs": [
    {
     "name": "stderr",
     "output_type": "stream",
     "text": [
      "C:\\Users\\Arun\\PycharmProjects\\JDEngine\\venv\\lib\\site-packages\\sklearn\\utils\\deprecation.py:87: FutureWarning: Function get_feature_names is deprecated; get_feature_names is deprecated in 1.0 and will be removed in 1.2. Please use get_feature_names_out instead.\n",
      "  warnings.warn(msg, category=FutureWarning)\n",
      "C:\\Users\\Arun\\PycharmProjects\\JDEngine\\venv\\lib\\site-packages\\sklearn\\utils\\deprecation.py:87: FutureWarning: Function get_feature_names is deprecated; get_feature_names is deprecated in 1.0 and will be removed in 1.2. Please use get_feature_names_out instead.\n",
      "  warnings.warn(msg, category=FutureWarning)\n"
     ]
    },
    {
     "name": "stdout",
     "output_type": "stream",
     "text": [
      "n==> Data Analyst:\n",
      "  * Most Correlated Unigrams are: excel, capgemini, analyst\n",
      "  * Most Correlated Bigrams are: reporting tool, analyst work, data analyst\n",
      "n==> Data Engineer:\n",
      "  * Most Correlated Unigrams are: enhanced, etl, nifi\n",
      "  * Most Correlated Bigrams are: database including, good data, data engineer\n",
      "n==> Data Scientist:\n",
      "  * Most Correlated Unigrams are: supervised, unsupervised, statistical\n",
      "  * Most Correlated Bigrams are: statistical analysis, experience statistical, conducting research\n",
      "n==> Senior Data Engineer:\n",
      "  * Most Correlated Unigrams are: engineer, lambda, streaming\n",
      "  * Most Correlated Bigrams are: data pipeline, data warehouse, architect build\n",
      "n==> Senior Data Scientist:\n",
      "  * Most Correlated Unigrams are: machine, nlp, ph\n",
      "  * Most Correlated Bigrams are: learning framework, machine learning, leadership team\n"
     ]
    },
    {
     "name": "stderr",
     "output_type": "stream",
     "text": [
      "C:\\Users\\Arun\\PycharmProjects\\JDEngine\\venv\\lib\\site-packages\\sklearn\\utils\\deprecation.py:87: FutureWarning: Function get_feature_names is deprecated; get_feature_names is deprecated in 1.0 and will be removed in 1.2. Please use get_feature_names_out instead.\n",
      "  warnings.warn(msg, category=FutureWarning)\n",
      "C:\\Users\\Arun\\PycharmProjects\\JDEngine\\venv\\lib\\site-packages\\sklearn\\utils\\deprecation.py:87: FutureWarning: Function get_feature_names is deprecated; get_feature_names is deprecated in 1.0 and will be removed in 1.2. Please use get_feature_names_out instead.\n",
      "  warnings.warn(msg, category=FutureWarning)\n",
      "C:\\Users\\Arun\\PycharmProjects\\JDEngine\\venv\\lib\\site-packages\\sklearn\\utils\\deprecation.py:87: FutureWarning: Function get_feature_names is deprecated; get_feature_names is deprecated in 1.0 and will be removed in 1.2. Please use get_feature_names_out instead.\n",
      "  warnings.warn(msg, category=FutureWarning)\n"
     ]
    }
   ],
   "source": [
    "# Finding the three most correlated terms with each of the product categories\n",
    "N = 3\n",
    "for Job_Title, JobTitle_Encoded in sorted(Encoded_to_Title.items()):\n",
    "  features_chi2 = chi2(features, labels == JobTitle_Encoded)\n",
    "  indices = np.argsort(features_chi2[0])\n",
    "  feature_names = np.array(tfidf.get_feature_names())[indices]\n",
    "  unigrams = [v for v in feature_names if len(v.split(' ')) == 1]\n",
    "  bigrams = [v for v in feature_names if len(v.split(' ')) == 2]\n",
    "  print(\"n==> %s:\" %(Job_Title))\n",
    "  print(\"  * Most Correlated Unigrams are: %s\" %(', '.join(unigrams[-N:])))\n",
    "  print(\"  * Most Correlated Bigrams are: %s\" %(', '.join(bigrams[-N:])))"
   ],
   "metadata": {
    "collapsed": false,
    "pycharm": {
     "name": "#%%\n"
    }
   }
  },
  {
   "cell_type": "code",
   "execution_count": 77,
   "outputs": [],
   "source": [
    "X = df_encoded['clean_lemmed']\n",
    "y = df_encoded['Job_Title']\n",
    "X_train, X_test, y_train, y_test = train_test_split(X, y,\n",
    "                                                    test_size=0.2,\n",
    "                                                    random_state = 0)"
   ],
   "metadata": {
    "collapsed": false,
    "pycharm": {
     "name": "#%%\n"
    }
   }
  },
  {
   "cell_type": "code",
   "execution_count": 78,
   "outputs": [],
   "source": [
    "models = [\n",
    "    RandomForestClassifier(n_estimators=100, max_depth=5, random_state=0),\n",
    "    LinearSVC(),\n",
    "    MultinomialNB(),\n",
    "    LogisticRegression(random_state=0),\n",
    "]"
   ],
   "metadata": {
    "collapsed": false,
    "pycharm": {
     "name": "#%%\n"
    }
   }
  },
  {
   "cell_type": "code",
   "execution_count": 79,
   "outputs": [],
   "source": [
    "# 5 Cross-validation\n",
    "CV = 5\n",
    "cv_df = pd.DataFrame(index=range(CV * len(models)))"
   ],
   "metadata": {
    "collapsed": false,
    "pycharm": {
     "name": "#%%\n"
    }
   }
  },
  {
   "cell_type": "code",
   "execution_count": 80,
   "outputs": [],
   "source": [
    "entries = []\n",
    "for model in models:\n",
    "  model_name = model.__class__.__name__\n",
    "  accuracies = cross_val_score(model, features, labels, scoring='accuracy', cv=CV)\n",
    "  for fold_idx, accuracy in enumerate(accuracies):\n",
    "    entries.append((model_name, fold_idx, accuracy))\n",
    "cv_df = pd.DataFrame(entries, columns=['model_name', 'fold_idx', 'accuracy'])"
   ],
   "metadata": {
    "collapsed": false,
    "pycharm": {
     "name": "#%%\n"
    }
   }
  },
  {
   "cell_type": "code",
   "execution_count": 81,
   "outputs": [
    {
     "data": {
      "text/plain": "                        Mean Accuracy  Standard deviation\nmodel_name                                               \nLinearSVC                       0.622            0.044944\nLogisticRegression              0.626            0.027019\nMultinomialNB                   0.608            0.030332\nRandomForestClassifier          0.596            0.039115",
      "text/html": "<div>\n<style scoped>\n    .dataframe tbody tr th:only-of-type {\n        vertical-align: middle;\n    }\n\n    .dataframe tbody tr th {\n        vertical-align: top;\n    }\n\n    .dataframe thead th {\n        text-align: right;\n    }\n</style>\n<table border=\"1\" class=\"dataframe\">\n  <thead>\n    <tr style=\"text-align: right;\">\n      <th></th>\n      <th>Mean Accuracy</th>\n      <th>Standard deviation</th>\n    </tr>\n    <tr>\n      <th>model_name</th>\n      <th></th>\n      <th></th>\n    </tr>\n  </thead>\n  <tbody>\n    <tr>\n      <th>LinearSVC</th>\n      <td>0.622</td>\n      <td>0.044944</td>\n    </tr>\n    <tr>\n      <th>LogisticRegression</th>\n      <td>0.626</td>\n      <td>0.027019</td>\n    </tr>\n    <tr>\n      <th>MultinomialNB</th>\n      <td>0.608</td>\n      <td>0.030332</td>\n    </tr>\n    <tr>\n      <th>RandomForestClassifier</th>\n      <td>0.596</td>\n      <td>0.039115</td>\n    </tr>\n  </tbody>\n</table>\n</div>"
     },
     "execution_count": 81,
     "metadata": {},
     "output_type": "execute_result"
    }
   ],
   "source": [
    "mean_accuracy = cv_df.groupby('model_name').accuracy.mean()\n",
    "std_accuracy = cv_df.groupby('model_name').accuracy.std()\n",
    "\n",
    "acc = pd.concat([mean_accuracy, std_accuracy], axis= 1,\n",
    "          ignore_index=True)\n",
    "acc.columns = ['Mean Accuracy', 'Standard deviation']\n",
    "acc"
   ],
   "metadata": {
    "collapsed": false,
    "pycharm": {
     "name": "#%%\n"
    }
   }
  },
  {
   "cell_type": "code",
   "execution_count": null,
   "outputs": [],
   "source": [],
   "metadata": {
    "collapsed": false,
    "pycharm": {
     "name": "#%%\n"
    }
   }
  }
 ],
 "metadata": {
  "kernelspec": {
   "display_name": "Python 3",
   "language": "python",
   "name": "python3"
  },
  "language_info": {
   "codemirror_mode": {
    "name": "ipython",
    "version": 2
   },
   "file_extension": ".py",
   "mimetype": "text/x-python",
   "name": "python",
   "nbconvert_exporter": "python",
   "pygments_lexer": "ipython2",
   "version": "2.7.6"
  }
 },
 "nbformat": 4,
 "nbformat_minor": 0
}