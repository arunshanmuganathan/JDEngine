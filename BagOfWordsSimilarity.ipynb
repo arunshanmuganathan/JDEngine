{
 "cells": [
  {
   "cell_type": "code",
   "execution_count": 1,
   "metadata": {
    "collapsed": true
   },
   "outputs": [
    {
     "name": "stderr",
     "output_type": "stream",
     "text": [
      "C:\\Users\\Arun\\PycharmProjects\\JDEngine\\venv\\lib\\site-packages\\hub\\util\\check_latest_version.py:32: UserWarning: A newer version of hub (2.5.0) is available. It's recommended that you update to the latest version using `pip install -U hub`.\n",
      "  warnings.warn(\n"
     ]
    }
   ],
   "source": [
    "# Import Libraries\n",
    "import hub as hub\n",
    "import pandas as pd\n",
    "import numpy as np\n",
    "import re\n",
    "\n",
    "import matplotlib\n",
    "import matplotlib.pyplot as plt\n",
    "import seaborn as sns\n",
    "from wordcloud import WordCloud\n",
    "from sklearn.feature_extraction.text import CountVectorizer\n",
    "\n",
    "import nltk\n",
    "from nltk.tokenize import sent_tokenize, word_tokenize, RegexpTokenizer\n",
    "from nltk.corpus import stopwords\n",
    "from nltk import PorterStemmer\n",
    "from nltk import WordNetLemmatizer\n",
    "from sklearn.feature_extraction.text import TfidfVectorizer\n",
    "from sklearn.model_selection import train_test_split\n",
    "from sklearn.metrics.pairwise import cosine_similarity\n",
    "import spacy\n",
    "from rake_nltk import Rake\n",
    "\n",
    "import tensorflow as tf\n",
    "import tensorflow_hub as hub\n",
    "import tensorflow_text as text\n",
    "\n",
    "font = {'family' : 'normal',\n",
    "        'weight' : 'bold',\n",
    "        'size'   : 22}"
   ]
  },
  {
   "cell_type": "code",
   "execution_count": 2,
   "outputs": [],
   "source": [
    "# Read Dataset\n",
    "desc1 = \"Achieving the planned timelines and objectives related to all the development mainly the Finance ERP, Auto ERP and Group websites Establish innovation and R&D practices. Improving team skills levels and effectiveness through training Introduction of new technologies and features to the applications to enhance efficiencies of systems (for e.g.: .net core upgrade) Establishment of industry practices such as DevOps, suitable software development practices, etc. The quality of completed tasks or projects Maintain good housekeeping, 5S and DMS practices within the division Duties or responsibilities assigned by Board of Directors & Divisional Heads / Immediate superiors.\"\n",
    "\n",
    "req1 = \"Proven experience as a Senior Software Engineer Extensive experience in software development, scripting and project management Experience using system monitoring tools (e.g. New Relic) and automated testing frameworks Knowledge of selected programming languages (e.g. Python, C++) and the Java/J2EE platform In-depth knowledge of relational databases (e.g. PostgreSQL, MySQL) and NoSQL databases (e.g. MongoDB) Familiarity with various operating systems (Linux, Mac OS, Windows) Analytical mind with problem-solving aptitude Ability to work independently Excellent organizational and leadership skills Degree in Computer Science, Engineering, or related qualifications\"\n",
    "\n",
    "data1 = [desc1, req1]"
   ],
   "metadata": {
    "collapsed": false,
    "pycharm": {
     "name": "#%%\n"
    }
   }
  },
  {
   "cell_type": "code",
   "execution_count": 3,
   "outputs": [],
   "source": [
    "Tfidf_vect = TfidfVectorizer()\n",
    "vector_matrix = Tfidf_vect.fit_transform(data1)"
   ],
   "metadata": {
    "collapsed": false,
    "pycharm": {
     "name": "#%%\n"
    }
   }
  },
  {
   "cell_type": "code",
   "execution_count": 4,
   "outputs": [],
   "source": [
    "def create_dataframe(matrix, tokens):\n",
    "\n",
    "    doc_names = [f'doc_{i+1}' for i, _ in enumerate(matrix)]\n",
    "    df = pd.DataFrame(data=matrix, index=doc_names, columns=tokens)\n",
    "    return(df)"
   ],
   "metadata": {
    "collapsed": false,
    "pycharm": {
     "name": "#%%\n"
    }
   }
  },
  {
   "cell_type": "code",
   "execution_count": 5,
   "outputs": [
    {
     "name": "stderr",
     "output_type": "stream",
     "text": [
      "C:\\Users\\Arun\\PycharmProjects\\JDEngine\\venv\\lib\\site-packages\\sklearn\\utils\\deprecation.py:87: FutureWarning: Function get_feature_names is deprecated; get_feature_names is deprecated in 1.0 and will be removed in 1.2. Please use get_feature_names_out instead.\n",
      "  warnings.warn(msg, category=FutureWarning)\n"
     ]
    },
    {
     "data": {
      "text/plain": "             5s   ability  achieving       all  analytical       and  \\\ndoc_1  0.085828  0.000000   0.085828  0.085828    0.000000  0.366406   \ndoc_2  0.000000  0.098888   0.000000  0.000000    0.098888  0.351797   \n\n       applications  aptitude        as  assigned  ...     tools  training  \\\ndoc_1      0.085828  0.000000  0.061068  0.085828  ...  0.000000  0.085828   \ndoc_2      0.000000  0.098888  0.070359  0.000000  ...  0.098888  0.000000   \n\n        upgrade     using   various  websites   windows      with    within  \\\ndoc_1  0.085828  0.000000  0.000000  0.085828  0.000000  0.000000  0.085828   \ndoc_2  0.000000  0.098888  0.098888  0.000000  0.098888  0.197775  0.000000   \n\n           work  \ndoc_1  0.000000  \ndoc_2  0.098888  \n\n[2 rows x 125 columns]",
      "text/html": "<div>\n<style scoped>\n    .dataframe tbody tr th:only-of-type {\n        vertical-align: middle;\n    }\n\n    .dataframe tbody tr th {\n        vertical-align: top;\n    }\n\n    .dataframe thead th {\n        text-align: right;\n    }\n</style>\n<table border=\"1\" class=\"dataframe\">\n  <thead>\n    <tr style=\"text-align: right;\">\n      <th></th>\n      <th>5s</th>\n      <th>ability</th>\n      <th>achieving</th>\n      <th>all</th>\n      <th>analytical</th>\n      <th>and</th>\n      <th>applications</th>\n      <th>aptitude</th>\n      <th>as</th>\n      <th>assigned</th>\n      <th>...</th>\n      <th>tools</th>\n      <th>training</th>\n      <th>upgrade</th>\n      <th>using</th>\n      <th>various</th>\n      <th>websites</th>\n      <th>windows</th>\n      <th>with</th>\n      <th>within</th>\n      <th>work</th>\n    </tr>\n  </thead>\n  <tbody>\n    <tr>\n      <th>doc_1</th>\n      <td>0.085828</td>\n      <td>0.000000</td>\n      <td>0.085828</td>\n      <td>0.085828</td>\n      <td>0.000000</td>\n      <td>0.366406</td>\n      <td>0.085828</td>\n      <td>0.000000</td>\n      <td>0.061068</td>\n      <td>0.085828</td>\n      <td>...</td>\n      <td>0.000000</td>\n      <td>0.085828</td>\n      <td>0.085828</td>\n      <td>0.000000</td>\n      <td>0.000000</td>\n      <td>0.085828</td>\n      <td>0.000000</td>\n      <td>0.000000</td>\n      <td>0.085828</td>\n      <td>0.000000</td>\n    </tr>\n    <tr>\n      <th>doc_2</th>\n      <td>0.000000</td>\n      <td>0.098888</td>\n      <td>0.000000</td>\n      <td>0.000000</td>\n      <td>0.098888</td>\n      <td>0.351797</td>\n      <td>0.000000</td>\n      <td>0.098888</td>\n      <td>0.070359</td>\n      <td>0.000000</td>\n      <td>...</td>\n      <td>0.098888</td>\n      <td>0.000000</td>\n      <td>0.000000</td>\n      <td>0.098888</td>\n      <td>0.098888</td>\n      <td>0.000000</td>\n      <td>0.098888</td>\n      <td>0.197775</td>\n      <td>0.000000</td>\n      <td>0.098888</td>\n    </tr>\n  </tbody>\n</table>\n<p>2 rows × 125 columns</p>\n</div>"
     },
     "execution_count": 5,
     "metadata": {},
     "output_type": "execute_result"
    }
   ],
   "source": [
    "tokens = Tfidf_vect.get_feature_names()\n",
    "create_dataframe(vector_matrix.toarray(),tokens)"
   ],
   "metadata": {
    "collapsed": false,
    "pycharm": {
     "name": "#%%\n"
    }
   }
  },
  {
   "cell_type": "code",
   "execution_count": 6,
   "outputs": [
    {
     "data": {
      "text/plain": "          doc_1     doc_2\ndoc_1  1.000000  0.257801\ndoc_2  0.257801  1.000000",
      "text/html": "<div>\n<style scoped>\n    .dataframe tbody tr th:only-of-type {\n        vertical-align: middle;\n    }\n\n    .dataframe tbody tr th {\n        vertical-align: top;\n    }\n\n    .dataframe thead th {\n        text-align: right;\n    }\n</style>\n<table border=\"1\" class=\"dataframe\">\n  <thead>\n    <tr style=\"text-align: right;\">\n      <th></th>\n      <th>doc_1</th>\n      <th>doc_2</th>\n    </tr>\n  </thead>\n  <tbody>\n    <tr>\n      <th>doc_1</th>\n      <td>1.000000</td>\n      <td>0.257801</td>\n    </tr>\n    <tr>\n      <th>doc_2</th>\n      <td>0.257801</td>\n      <td>1.000000</td>\n    </tr>\n  </tbody>\n</table>\n</div>"
     },
     "execution_count": 6,
     "metadata": {},
     "output_type": "execute_result"
    }
   ],
   "source": [
    "cosine_similarity_matrix = cosine_similarity(vector_matrix)\n",
    "create_dataframe(cosine_similarity_matrix,['doc_1','doc_2'])"
   ],
   "metadata": {
    "collapsed": false,
    "pycharm": {
     "name": "#%%\n"
    }
   }
  },
  {
   "cell_type": "code",
   "execution_count": 7,
   "outputs": [
    {
     "ename": "OSError",
     "evalue": "[E050] Can't find model 'en_core_sci_lg'. It doesn't seem to be a Python package or a valid path to a data directory.",
     "output_type": "error",
     "traceback": [
      "\u001B[1;31m---------------------------------------------------------------------------\u001B[0m",
      "\u001B[1;31mOSError\u001B[0m                                   Traceback (most recent call last)",
      "Input \u001B[1;32mIn [7]\u001B[0m, in \u001B[0;36m<cell line: 1>\u001B[1;34m()\u001B[0m\n\u001B[1;32m----> 1\u001B[0m nlp \u001B[38;5;241m=\u001B[39m \u001B[43mspacy\u001B[49m\u001B[38;5;241;43m.\u001B[39;49m\u001B[43mload\u001B[49m\u001B[43m(\u001B[49m\u001B[38;5;124;43m\"\u001B[39;49m\u001B[38;5;124;43men_core_sci_lg\u001B[39;49m\u001B[38;5;124;43m\"\u001B[39;49m\u001B[43m)\u001B[49m\n",
      "File \u001B[1;32m~\\PycharmProjects\\JDEngine\\venv\\lib\\site-packages\\spacy\\__init__.py:51\u001B[0m, in \u001B[0;36mload\u001B[1;34m(name, vocab, disable, exclude, config)\u001B[0m\n\u001B[0;32m     30\u001B[0m \u001B[38;5;28;01mdef\u001B[39;00m \u001B[38;5;21mload\u001B[39m(\n\u001B[0;32m     31\u001B[0m     name: Union[\u001B[38;5;28mstr\u001B[39m, Path],\n\u001B[0;32m     32\u001B[0m     \u001B[38;5;241m*\u001B[39m,\n\u001B[1;32m   (...)\u001B[0m\n\u001B[0;32m     36\u001B[0m     config: Union[Dict[\u001B[38;5;28mstr\u001B[39m, Any], Config] \u001B[38;5;241m=\u001B[39m util\u001B[38;5;241m.\u001B[39mSimpleFrozenDict(),\n\u001B[0;32m     37\u001B[0m ) \u001B[38;5;241m-\u001B[39m\u001B[38;5;241m>\u001B[39m Language:\n\u001B[0;32m     38\u001B[0m     \u001B[38;5;124;03m\"\"\"Load a spaCy model from an installed package or a local path.\u001B[39;00m\n\u001B[0;32m     39\u001B[0m \n\u001B[0;32m     40\u001B[0m \u001B[38;5;124;03m    name (str): Package name or model path.\u001B[39;00m\n\u001B[1;32m   (...)\u001B[0m\n\u001B[0;32m     49\u001B[0m \u001B[38;5;124;03m    RETURNS (Language): The loaded nlp object.\u001B[39;00m\n\u001B[0;32m     50\u001B[0m \u001B[38;5;124;03m    \"\"\"\u001B[39;00m\n\u001B[1;32m---> 51\u001B[0m     \u001B[38;5;28;01mreturn\u001B[39;00m \u001B[43mutil\u001B[49m\u001B[38;5;241;43m.\u001B[39;49m\u001B[43mload_model\u001B[49m\u001B[43m(\u001B[49m\n\u001B[0;32m     52\u001B[0m \u001B[43m        \u001B[49m\u001B[43mname\u001B[49m\u001B[43m,\u001B[49m\u001B[43m \u001B[49m\u001B[43mvocab\u001B[49m\u001B[38;5;241;43m=\u001B[39;49m\u001B[43mvocab\u001B[49m\u001B[43m,\u001B[49m\u001B[43m \u001B[49m\u001B[43mdisable\u001B[49m\u001B[38;5;241;43m=\u001B[39;49m\u001B[43mdisable\u001B[49m\u001B[43m,\u001B[49m\u001B[43m \u001B[49m\u001B[43mexclude\u001B[49m\u001B[38;5;241;43m=\u001B[39;49m\u001B[43mexclude\u001B[49m\u001B[43m,\u001B[49m\u001B[43m \u001B[49m\u001B[43mconfig\u001B[49m\u001B[38;5;241;43m=\u001B[39;49m\u001B[43mconfig\u001B[49m\n\u001B[0;32m     53\u001B[0m \u001B[43m    \u001B[49m\u001B[43m)\u001B[49m\n",
      "File \u001B[1;32m~\\PycharmProjects\\JDEngine\\venv\\lib\\site-packages\\spacy\\util.py:427\u001B[0m, in \u001B[0;36mload_model\u001B[1;34m(name, vocab, disable, exclude, config)\u001B[0m\n\u001B[0;32m    425\u001B[0m \u001B[38;5;28;01mif\u001B[39;00m name \u001B[38;5;129;01min\u001B[39;00m OLD_MODEL_SHORTCUTS:\n\u001B[0;32m    426\u001B[0m     \u001B[38;5;28;01mraise\u001B[39;00m \u001B[38;5;167;01mIOError\u001B[39;00m(Errors\u001B[38;5;241m.\u001B[39mE941\u001B[38;5;241m.\u001B[39mformat(name\u001B[38;5;241m=\u001B[39mname, full\u001B[38;5;241m=\u001B[39mOLD_MODEL_SHORTCUTS[name]))  \u001B[38;5;66;03m# type: ignore[index]\u001B[39;00m\n\u001B[1;32m--> 427\u001B[0m \u001B[38;5;28;01mraise\u001B[39;00m \u001B[38;5;167;01mIOError\u001B[39;00m(Errors\u001B[38;5;241m.\u001B[39mE050\u001B[38;5;241m.\u001B[39mformat(name\u001B[38;5;241m=\u001B[39mname))\n",
      "\u001B[1;31mOSError\u001B[0m: [E050] Can't find model 'en_core_sci_lg'. It doesn't seem to be a Python package or a valid path to a data directory."
     ]
    }
   ],
   "source": [
    "nlp = spacy.load(\"en_core_sci_lg\")"
   ],
   "metadata": {
    "collapsed": false,
    "pycharm": {
     "name": "#%%\n"
    }
   }
  },
  {
   "cell_type": "code",
   "execution_count": 8,
   "outputs": [],
   "source": [
    "rake_nltk_var = Rake()"
   ],
   "metadata": {
    "collapsed": false,
    "pycharm": {
     "name": "#%%\n"
    }
   }
  },
  {
   "cell_type": "code",
   "execution_count": 9,
   "outputs": [],
   "source": [
    "rake_nltk_var.extract_keywords_from_text(desc1)"
   ],
   "metadata": {
    "collapsed": false,
    "pycharm": {
     "name": "#%%\n"
    }
   }
  },
  {
   "cell_type": "code",
   "execution_count": 10,
   "outputs": [],
   "source": [
    "keyword_extracted = rake_nltk_var.get_ranked_phrases()"
   ],
   "metadata": {
    "collapsed": false,
    "pycharm": {
     "name": "#%%\n"
    }
   }
  },
  {
   "cell_type": "code",
   "execution_count": 11,
   "outputs": [
    {
     "name": "stdout",
     "output_type": "stream",
     "text": [
      "['projects maintain good housekeeping', 'improving team skills levels', 'group websites establish innovation', 'suitable software development practices', 'net core upgrade', 'dms practices within', 'development mainly', 'industry practices', 'training introduction', 'responsibilities assigned', 'planned timelines', 'objectives related', 'new technologies', 'immediate superiors', 'finance erp', 'enhance efficiencies', 'divisional heads', 'division duties', 'completed tasks', 'auto erp', 'practices', 'systems', 'r', 'quality', 'g', 'features', 'etc', 'establishment', 'effectiveness', 'e', 'directors', 'devops', 'board', 'applications', 'achieving', '5s']\n"
     ]
    }
   ],
   "source": [
    "print(keyword_extracted)"
   ],
   "metadata": {
    "collapsed": false,
    "pycharm": {
     "name": "#%%\n"
    }
   }
  },
  {
   "cell_type": "code",
   "execution_count": null,
   "outputs": [],
   "source": [],
   "metadata": {
    "collapsed": false,
    "pycharm": {
     "name": "#%%\n"
    }
   }
  }
 ],
 "metadata": {
  "kernelspec": {
   "display_name": "Python 3",
   "language": "python",
   "name": "python3"
  },
  "language_info": {
   "codemirror_mode": {
    "name": "ipython",
    "version": 2
   },
   "file_extension": ".py",
   "mimetype": "text/x-python",
   "name": "python",
   "nbconvert_exporter": "python",
   "pygments_lexer": "ipython2",
   "version": "2.7.6"
  }
 },
 "nbformat": 4,
 "nbformat_minor": 0
}