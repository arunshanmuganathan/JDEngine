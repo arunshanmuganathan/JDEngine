{
 "cells": [
  {
   "cell_type": "code",
   "execution_count": 1,
   "metadata": {
    "collapsed": true
   },
   "outputs": [],
   "source": [
    "# Import Libraries\n",
    "import pandas as pd\n",
    "import numpy as np\n",
    "import re\n",
    "\n",
    "import matplotlib\n",
    "import matplotlib.pyplot as plt\n",
    "import seaborn as sns\n",
    "from wordcloud import WordCloud\n",
    "from sklearn.feature_extraction.text import CountVectorizer\n",
    "\n",
    "import nltk\n",
    "from nltk.tokenize import sent_tokenize, word_tokenize, RegexpTokenizer\n",
    "from nltk.corpus import stopwords\n",
    "from nltk import PorterStemmer\n",
    "from nltk import WordNetLemmatizer\n",
    "\n",
    "font = {'family' : 'normal',\n",
    "        'weight' : 'bold',\n",
    "        'size'   : 22}"
   ]
  },
  {
   "cell_type": "code",
   "execution_count": 13,
   "outputs": [
    {
     "name": "stderr",
     "output_type": "stream",
     "text": [
      "[nltk_data] Downloading package tagsets to\n",
      "[nltk_data]     C:\\Users\\Arun\\AppData\\Roaming\\nltk_data...\n",
      "[nltk_data]   Unzipping help\\tagsets.zip.\n"
     ]
    },
    {
     "data": {
      "text/plain": "True"
     },
     "execution_count": 13,
     "metadata": {},
     "output_type": "execute_result"
    }
   ],
   "source": [
    "# nltk.download('averaged_perceptron_tagger')\n",
    "nltk.download('tagsets')"
   ],
   "metadata": {
    "collapsed": false,
    "pycharm": {
     "name": "#%%\n"
    }
   }
  },
  {
   "cell_type": "code",
   "execution_count": 2,
   "outputs": [
    {
     "name": "stdout",
     "output_type": "stream",
     "text": [
      "<class 'pandas.core.frame.DataFrame'>\n",
      "RangeIndex: 5413 entries, 0 to 5412\n",
      "Data columns (total 11 columns):\n",
      " #   Column              Non-Null Count  Dtype \n",
      "---  ------              --------------  ----- \n",
      " 0   Unnamed: 0          5413 non-null   int64 \n",
      " 1   Job_Title           5413 non-null   object\n",
      " 2   Description         5413 non-null   object\n",
      " 3   lower_description   5413 non-null   object\n",
      " 4   word_tokenized      5413 non-null   object\n",
      " 5   sentence_tokenized  5413 non-null   object\n",
      " 6   word_count          5413 non-null   int64 \n",
      " 7   sentence_count      5413 non-null   int64 \n",
      " 8   clean_words         5413 non-null   object\n",
      " 9   clean_stemmed       5413 non-null   object\n",
      " 10  clean_lemmed        5413 non-null   object\n",
      "dtypes: int64(3), object(8)\n",
      "memory usage: 465.3+ KB\n"
     ]
    }
   ],
   "source": [
    "# Read Dataset\n",
    "df_processed = pd.read_csv(r'processed_data.csv')\n",
    "df_processed.info()"
   ],
   "metadata": {
    "collapsed": false,
    "pycharm": {
     "name": "#%%\n"
    }
   }
  },
  {
   "cell_type": "code",
   "execution_count": 3,
   "outputs": [
    {
     "data": {
      "text/plain": "(5413, 11)"
     },
     "execution_count": 3,
     "metadata": {},
     "output_type": "execute_result"
    }
   ],
   "source": [
    "# duplicates reduce the df by 651 observations\n",
    "df_processed.drop_duplicates(inplace = True)\n",
    "df_processed.shape"
   ],
   "metadata": {
    "collapsed": false,
    "pycharm": {
     "name": "#%%\n"
    }
   }
  },
  {
   "cell_type": "code",
   "execution_count": 4,
   "outputs": [
    {
     "data": {
      "text/plain": "   Unnamed: 0                                  Job_Title  \\\n0           0                             Data Scientist   \n1           1                             Data Scientist   \n2           2                             Data Scientist   \n3           3  Graduate Studies Program - Data Scientist   \n4           4                           Data Scientist I   \n\n                                         Description  \\\n0  POSITION SUMMARY, The Business Analyst role is...   \n1  What do we need?, You to have an amazing perso...   \n2  Validate, analyze, and conduct statistical ana...   \n3  Full time, Washington, DC metro area, Starting...   \n4  Assist in consultations with business partners...   \n\n                                   lower_description  \\\n0  position summary, the business analyst role is...   \n1  what do we need?, you to have an amazing perso...   \n2  validate, analyze, and conduct statistical ana...   \n3  full time, washington, dc metro area, starting...   \n4  assist in consultations with business partners...   \n\n                                      word_tokenized  \\\n0  ['position', 'summary', 'the', 'business', 'an...   \n1  ['what', 'do', 'we', 'need', 'you', 'to', 'hav...   \n2  ['validate', 'analyze', 'and', 'conduct', 'sta...   \n3  ['full', 'time', 'washington', 'dc', 'metro', ...   \n4  ['assist', 'in', 'consultations', 'with', 'bus...   \n\n                                  sentence_tokenized  word_count  \\\n0  ['POSITION SUMMARY, The Business Analyst role ...         424   \n1  ['What do we need?, You to have an amazing per...         286   \n2  ['Validate, analyze, and conduct statistical a...         314   \n3  ['Full time, Washington, DC metro area, Starti...         297   \n4  ['Assist in consultations with business partne...         316   \n\n   sentence_count                                        clean_words  \\\n0              25  ['position', 'summary', 'business', 'analyst',...   \n1              10  ['need', 'amazing', 'personality', 'communicat...   \n2              24  ['validate', 'analyze', 'conduct', 'statistica...   \n3              13  ['full', 'time', 'washington', 'dc', 'metro', ...   \n4               7  ['assist', 'consultations', 'business', 'partn...   \n\n                                       clean_stemmed  \\\n0  ['posit', 'summari', 'busi', 'analyst', 'role'...   \n1  ['need', 'amaz', 'person', 'commun', 'style', ...   \n2  ['valid', 'analyz', 'conduct', 'statist', 'ana...   \n3  ['full', 'time', 'washington', 'dc', 'metro', ...   \n4  ['assist', 'consult', 'busi', 'partner', 'inte...   \n\n                                        clean_lemmed  \n0  ['position', 'summary', 'business', 'analyst',...  \n1  ['need', 'amazing', 'personality', 'communicat...  \n2  ['validate', 'analyze', 'conduct', 'statistica...  \n3  ['full', 'time', 'washington', 'dc', 'metro', ...  \n4  ['assist', 'consultation', 'business', 'partne...  ",
      "text/html": "<div>\n<style scoped>\n    .dataframe tbody tr th:only-of-type {\n        vertical-align: middle;\n    }\n\n    .dataframe tbody tr th {\n        vertical-align: top;\n    }\n\n    .dataframe thead th {\n        text-align: right;\n    }\n</style>\n<table border=\"1\" class=\"dataframe\">\n  <thead>\n    <tr style=\"text-align: right;\">\n      <th></th>\n      <th>Unnamed: 0</th>\n      <th>Job_Title</th>\n      <th>Description</th>\n      <th>lower_description</th>\n      <th>word_tokenized</th>\n      <th>sentence_tokenized</th>\n      <th>word_count</th>\n      <th>sentence_count</th>\n      <th>clean_words</th>\n      <th>clean_stemmed</th>\n      <th>clean_lemmed</th>\n    </tr>\n  </thead>\n  <tbody>\n    <tr>\n      <th>0</th>\n      <td>0</td>\n      <td>Data Scientist</td>\n      <td>POSITION SUMMARY, The Business Analyst role is...</td>\n      <td>position summary, the business analyst role is...</td>\n      <td>['position', 'summary', 'the', 'business', 'an...</td>\n      <td>['POSITION SUMMARY, The Business Analyst role ...</td>\n      <td>424</td>\n      <td>25</td>\n      <td>['position', 'summary', 'business', 'analyst',...</td>\n      <td>['posit', 'summari', 'busi', 'analyst', 'role'...</td>\n      <td>['position', 'summary', 'business', 'analyst',...</td>\n    </tr>\n    <tr>\n      <th>1</th>\n      <td>1</td>\n      <td>Data Scientist</td>\n      <td>What do we need?, You to have an amazing perso...</td>\n      <td>what do we need?, you to have an amazing perso...</td>\n      <td>['what', 'do', 'we', 'need', 'you', 'to', 'hav...</td>\n      <td>['What do we need?, You to have an amazing per...</td>\n      <td>286</td>\n      <td>10</td>\n      <td>['need', 'amazing', 'personality', 'communicat...</td>\n      <td>['need', 'amaz', 'person', 'commun', 'style', ...</td>\n      <td>['need', 'amazing', 'personality', 'communicat...</td>\n    </tr>\n    <tr>\n      <th>2</th>\n      <td>2</td>\n      <td>Data Scientist</td>\n      <td>Validate, analyze, and conduct statistical ana...</td>\n      <td>validate, analyze, and conduct statistical ana...</td>\n      <td>['validate', 'analyze', 'and', 'conduct', 'sta...</td>\n      <td>['Validate, analyze, and conduct statistical a...</td>\n      <td>314</td>\n      <td>24</td>\n      <td>['validate', 'analyze', 'conduct', 'statistica...</td>\n      <td>['valid', 'analyz', 'conduct', 'statist', 'ana...</td>\n      <td>['validate', 'analyze', 'conduct', 'statistica...</td>\n    </tr>\n    <tr>\n      <th>3</th>\n      <td>3</td>\n      <td>Graduate Studies Program - Data Scientist</td>\n      <td>Full time, Washington, DC metro area, Starting...</td>\n      <td>full time, washington, dc metro area, starting...</td>\n      <td>['full', 'time', 'washington', 'dc', 'metro', ...</td>\n      <td>['Full time, Washington, DC metro area, Starti...</td>\n      <td>297</td>\n      <td>13</td>\n      <td>['full', 'time', 'washington', 'dc', 'metro', ...</td>\n      <td>['full', 'time', 'washington', 'dc', 'metro', ...</td>\n      <td>['full', 'time', 'washington', 'dc', 'metro', ...</td>\n    </tr>\n    <tr>\n      <th>4</th>\n      <td>4</td>\n      <td>Data Scientist I</td>\n      <td>Assist in consultations with business partners...</td>\n      <td>assist in consultations with business partners...</td>\n      <td>['assist', 'in', 'consultations', 'with', 'bus...</td>\n      <td>['Assist in consultations with business partne...</td>\n      <td>316</td>\n      <td>7</td>\n      <td>['assist', 'consultations', 'business', 'partn...</td>\n      <td>['assist', 'consult', 'busi', 'partner', 'inte...</td>\n      <td>['assist', 'consultation', 'business', 'partne...</td>\n    </tr>\n  </tbody>\n</table>\n</div>"
     },
     "execution_count": 4,
     "metadata": {},
     "output_type": "execute_result"
    }
   ],
   "source": [
    "df_processed.head()"
   ],
   "metadata": {
    "collapsed": false,
    "pycharm": {
     "name": "#%%\n"
    }
   }
  },
  {
   "cell_type": "markdown",
   "source": [
    "Parts of Speech (POS)"
   ],
   "metadata": {
    "collapsed": false
   }
  },
  {
   "cell_type": "code",
   "execution_count": 5,
   "outputs": [],
   "source": [
    "def pos_series(keyword):\n",
    "    '''categorizes parts of speech after tokenizing words with POS tags'''\n",
    "    tokens = nltk.word_tokenize(keyword)\n",
    "    tagged = nltk.pos_tag(tokens)\n",
    "    return tagged"
   ],
   "metadata": {
    "collapsed": false,
    "pycharm": {
     "name": "#%%\n"
    }
   }
  },
  {
   "cell_type": "code",
   "execution_count": 8,
   "outputs": [],
   "source": [
    "pos_tagged_arrs = df_processed.lower_description.apply(pos_series)"
   ],
   "metadata": {
    "collapsed": false,
    "pycharm": {
     "name": "#%%\n"
    }
   }
  },
  {
   "cell_type": "code",
   "execution_count": 9,
   "outputs": [],
   "source": [
    "pos_tagged = []\n",
    "for row in pos_tagged_arrs.values:\n",
    "    for element in row:\n",
    "        pos_tagged.append(element)"
   ],
   "metadata": {
    "collapsed": false,
    "pycharm": {
     "name": "#%%\n"
    }
   }
  },
  {
   "cell_type": "code",
   "execution_count": 10,
   "outputs": [],
   "source": [
    "pos_df = pd.DataFrame(pos_tagged, columns = ('word','POS'))\n",
    "# special chars were removed due to irrelevance as a tag but will be included in regex\n",
    "char_removal = [',', '.', ':', '#', '$', '\\'\\'', '``', '(', ')']\n",
    "drop_indices = (pos_df.loc[pos_df.POS.isin(char_removal)].index)\n",
    "pos_df.drop(drop_indices, inplace = True)"
   ],
   "metadata": {
    "collapsed": false,
    "pycharm": {
     "name": "#%%\n"
    }
   }
  },
  {
   "cell_type": "code",
   "execution_count": 11,
   "outputs": [
    {
     "data": {
      "text/plain": "        word\nPOS         \nNN    592948\nNNS   303335\nJJ    261243\nIN    213634\nCC    157618\nDT    105657\nVB     99592\nVBG    74037\nTO     64907\nVBP    40224\nRB     35636\nVBN    31168\nVBZ    28394\nPRP    26442\nCD     18761\nPRP$   18231\nMD     16148\nVBD     9551\nWDT     6961\nNNP     6519\nJJS     4884\nJJR     4258\nFW      3715\nWP      3318\nWRB     3159\nPOS     2775\nRP      1674\nRBS     1074\nRBR     1061\nEX       290\nPDT      233\nUH       122\nSYM      118\nWP$       43\nNNPS      10\nLS         2",
      "text/html": "<div>\n<style scoped>\n    .dataframe tbody tr th:only-of-type {\n        vertical-align: middle;\n    }\n\n    .dataframe tbody tr th {\n        vertical-align: top;\n    }\n\n    .dataframe thead th {\n        text-align: right;\n    }\n</style>\n<table border=\"1\" class=\"dataframe\">\n  <thead>\n    <tr style=\"text-align: right;\">\n      <th></th>\n      <th>word</th>\n    </tr>\n    <tr>\n      <th>POS</th>\n      <th></th>\n    </tr>\n  </thead>\n  <tbody>\n    <tr>\n      <th>NN</th>\n      <td>592948</td>\n    </tr>\n    <tr>\n      <th>NNS</th>\n      <td>303335</td>\n    </tr>\n    <tr>\n      <th>JJ</th>\n      <td>261243</td>\n    </tr>\n    <tr>\n      <th>IN</th>\n      <td>213634</td>\n    </tr>\n    <tr>\n      <th>CC</th>\n      <td>157618</td>\n    </tr>\n    <tr>\n      <th>DT</th>\n      <td>105657</td>\n    </tr>\n    <tr>\n      <th>VB</th>\n      <td>99592</td>\n    </tr>\n    <tr>\n      <th>VBG</th>\n      <td>74037</td>\n    </tr>\n    <tr>\n      <th>TO</th>\n      <td>64907</td>\n    </tr>\n    <tr>\n      <th>VBP</th>\n      <td>40224</td>\n    </tr>\n    <tr>\n      <th>RB</th>\n      <td>35636</td>\n    </tr>\n    <tr>\n      <th>VBN</th>\n      <td>31168</td>\n    </tr>\n    <tr>\n      <th>VBZ</th>\n      <td>28394</td>\n    </tr>\n    <tr>\n      <th>PRP</th>\n      <td>26442</td>\n    </tr>\n    <tr>\n      <th>CD</th>\n      <td>18761</td>\n    </tr>\n    <tr>\n      <th>PRP$</th>\n      <td>18231</td>\n    </tr>\n    <tr>\n      <th>MD</th>\n      <td>16148</td>\n    </tr>\n    <tr>\n      <th>VBD</th>\n      <td>9551</td>\n    </tr>\n    <tr>\n      <th>WDT</th>\n      <td>6961</td>\n    </tr>\n    <tr>\n      <th>NNP</th>\n      <td>6519</td>\n    </tr>\n    <tr>\n      <th>JJS</th>\n      <td>4884</td>\n    </tr>\n    <tr>\n      <th>JJR</th>\n      <td>4258</td>\n    </tr>\n    <tr>\n      <th>FW</th>\n      <td>3715</td>\n    </tr>\n    <tr>\n      <th>WP</th>\n      <td>3318</td>\n    </tr>\n    <tr>\n      <th>WRB</th>\n      <td>3159</td>\n    </tr>\n    <tr>\n      <th>POS</th>\n      <td>2775</td>\n    </tr>\n    <tr>\n      <th>RP</th>\n      <td>1674</td>\n    </tr>\n    <tr>\n      <th>RBS</th>\n      <td>1074</td>\n    </tr>\n    <tr>\n      <th>RBR</th>\n      <td>1061</td>\n    </tr>\n    <tr>\n      <th>EX</th>\n      <td>290</td>\n    </tr>\n    <tr>\n      <th>PDT</th>\n      <td>233</td>\n    </tr>\n    <tr>\n      <th>UH</th>\n      <td>122</td>\n    </tr>\n    <tr>\n      <th>SYM</th>\n      <td>118</td>\n    </tr>\n    <tr>\n      <th>WP$</th>\n      <td>43</td>\n    </tr>\n    <tr>\n      <th>NNPS</th>\n      <td>10</td>\n    </tr>\n    <tr>\n      <th>LS</th>\n      <td>2</td>\n    </tr>\n  </tbody>\n</table>\n</div>"
     },
     "execution_count": 11,
     "metadata": {},
     "output_type": "execute_result"
    }
   ],
   "source": [
    "# frequency of the unique pos tags within the dataset\n",
    "pos_sum = pos_df.groupby('POS').count() # group by POS tags\n",
    "pos_sum.sort_values(['word'], ascending=[False]) # in descending order of number of words per tag"
   ],
   "metadata": {
    "collapsed": false,
    "pycharm": {
     "name": "#%%\n"
    }
   }
  },
  {
   "cell_type": "code",
   "execution_count": 14,
   "outputs": [
    {
     "name": "stdout",
     "output_type": "stream",
     "text": [
      "NN: noun, common, singular or mass\n",
      "    common-carrier cabbage knuckle-duster Casino afghan shed thermostat\n",
      "    investment slide humour falloff slick wind hyena override subhumanity\n",
      "    machinist ...\n",
      "None\n",
      "DT: determiner\n",
      "    all an another any both del each either every half la many much nary\n",
      "    neither no some such that the them these this those\n",
      "None\n",
      "VBZ: verb, present tense, 3rd person singular\n",
      "    bases reconstructs marks mixes displeases seals carps weaves snatches\n",
      "    slumps stretches authorizes smolders pictures emerges stockpiles\n",
      "    seduces fizzes uses bolsters slaps speaks pleads ...\n",
      "None\n",
      "JJ: adjective or numeral, ordinal\n",
      "    third ill-mannered pre-war regrettable oiled calamitous first separable\n",
      "    ectoplasmic battery-powered participatory fourth still-to-be-named\n",
      "    multilingual multi-disciplinary ...\n",
      "None\n",
      "IN: preposition or conjunction, subordinating\n",
      "    astride among uppon whether out inside pro despite on by throughout\n",
      "    below within for towards near behind atop around if like until below\n",
      "    next into if beside ...\n",
      "None\n",
      "CC: conjunction, coordinating\n",
      "    & 'n and both but either et for less minus neither nor or plus so\n",
      "    therefore times v. versus vs. whether yet\n",
      "None\n",
      "NNS: noun, common, plural\n",
      "    undergraduates scotches bric-a-brac products bodyguards facets coasts\n",
      "    divestitures storehouses designs clubs fragrances averages\n",
      "    subjectivists apprehensions muses factory-jobs ...\n",
      "None\n",
      "VBN: verb, past participle\n",
      "    multihulled dilapidated aerosolized chaired languished panelized used\n",
      "    experimented flourished imitated reunifed factored condensed sheared\n",
      "    unsettled primed dubbed desired ...\n",
      "None\n",
      "TO: \"to\" as preposition or infinitive marker\n",
      "    to\n",
      "None\n",
      "VB: verb, base form\n",
      "    ask assemble assess assign assume atone attention avoid bake balkanize\n",
      "    bank begin behold believe bend benefit bevel beware bless boil bomb\n",
      "    boost brace break bring broil brush build ...\n",
      "None\n",
      "RB: adverb\n",
      "    occasionally unabatingly maddeningly adventurously professedly\n",
      "    stirringly prominently technologically magisterially predominately\n",
      "    swiftly fiscally pitilessly ...\n",
      "None\n",
      "WDT: WH-determiner\n",
      "    that what whatever which whichever\n",
      "None\n",
      "VBP: verb, present tense, not 3rd person singular\n",
      "    predominate wrap resort sue twist spill cure lengthen brush terminate\n",
      "    appear tend stray glisten obtain comprise detest tease attract\n",
      "    emphasize mold postpone sever return wag ...\n",
      "None\n",
      "JJS: adjective, superlative\n",
      "    calmest cheapest choicest classiest cleanest clearest closest commonest\n",
      "    corniest costliest crassest creepiest crudest cutest darkest deadliest\n",
      "    dearest deepest densest dinkiest ...\n",
      "None\n",
      "NNP: noun, proper, singular\n",
      "    Motown Venneboerger Czestochwa Ranzer Conchita Trumplane Christos\n",
      "    Oceanside Escobar Kreisler Sawyer Cougar Yvette Ervin ODI Darryl CTCA\n",
      "    Shannon A.K.C. Meltex Liverpool ...\n",
      "None\n",
      "VBD: verb, past tense\n",
      "    dipped pleaded swiped regummed soaked tidied convened halted registered\n",
      "    cushioned exacted snubbed strode aimed adopted belied figgered\n",
      "    speculated wore appreciated contemplated ...\n",
      "None\n",
      "CD: numeral, cardinal\n",
      "    mid-1890 nine-thirty forty-two one-tenth ten million 0.5 one forty-\n",
      "    seven 1987 twenty '79 zero two 78-degrees eighty-four IX '60s .025\n",
      "    fifteen 271,124 dozen quintillion DM2,000 ...\n",
      "None\n",
      "VBG: verb, present participle or gerund\n",
      "    telegraphing stirring focusing angering judging stalling lactating\n",
      "    hankerin' alleging veering capping approaching traveling besieging\n",
      "    encrypting interrupting erasing wincing ...\n",
      "None\n",
      "PRP$: pronoun, possessive\n",
      "    her his mine my our ours their thy your\n",
      "None\n",
      "PRP: pronoun, personal\n",
      "    hers herself him himself hisself it itself me myself one oneself ours\n",
      "    ourselves ownself self she thee theirs them themselves they thou thy us\n",
      "None\n",
      "JJR: adjective, comparative\n",
      "    bleaker braver breezier briefer brighter brisker broader bumper busier\n",
      "    calmer cheaper choosier cleaner clearer closer colder commoner costlier\n",
      "    cozier creamier crunchier cuter ...\n",
      "None\n",
      "WP: WH-pronoun\n",
      "    that what whatever whatsoever which who whom whosoever\n",
      "None\n",
      "RP: particle\n",
      "    aboard about across along apart around aside at away back before behind\n",
      "    by crop down ever fast for forth from go high i.e. in into just later\n",
      "    low more off on open out over per pie raising start teeth that through\n",
      "    under unto up up-pp upon whole with you\n",
      "None\n",
      "WRB: Wh-adverb\n",
      "    how however whence whenever where whereby whereever wherein whereof why\n",
      "None\n",
      "MD: modal auxiliary\n",
      "    can cannot could couldn't dare may might must need ought shall should\n",
      "    shouldn't will would\n",
      "None\n",
      "FW: foreign word\n",
      "    gemeinschaft hund ich jeux habeas Haementeria Herr K'ang-si vous\n",
      "    lutihaw alai je jour objets salutaris fille quibusdam pas trop Monte\n",
      "    terram fiche oui corporis ...\n",
      "None\n",
      "POS: genitive marker\n",
      "    ' 's\n",
      "None\n",
      "RBR: adverb, comparative\n",
      "    further gloomier grander graver greater grimmer harder harsher\n",
      "    healthier heavier higher however larger later leaner lengthier less-\n",
      "    perfectly lesser lonelier longer louder lower more ...\n",
      "None\n",
      "RBS: adverb, superlative\n",
      "    best biggest bluntest earliest farthest first furthest hardest\n",
      "    heartiest highest largest least less most nearest second tightest worst\n",
      "None\n",
      "UH: interjection\n",
      "    Goodbye Goody Gosh Wow Jeepers Jee-sus Hubba Hey Kee-reist Oops amen\n",
      "    huh howdy uh dammit whammo shucks heck anyways whodunnit honey golly\n",
      "    man baby diddle hush sonuvabitch ...\n",
      "None\n",
      "EX: existential there\n",
      "    there\n",
      "None\n",
      "PDT: pre-determiner\n",
      "    all both half many quite such sure this\n",
      "None\n",
      "SYM: symbol\n",
      "    % & ' '' ''. ) ). * + ,. < = > @ A[fj] U.S U.S.S.R * ** ***\n",
      "None\n",
      "WP$: WH-pronoun, possessive\n",
      "    whose\n",
      "None\n",
      "NNPS: noun, proper, plural\n",
      "    Americans Americas Amharas Amityvilles Amusements Anarcho-Syndicalists\n",
      "    Andalusians Andes Andruses Angels Animals Anthony Antilles Antiques\n",
      "    Apache Apaches Apocrypha ...\n",
      "None\n",
      "LS: list item marker\n",
      "    A A. B B. C C. D E F First G H I J K One SP-44001 SP-44002 SP-44005\n",
      "    SP-44007 Second Third Three Two * a b c d first five four one six three\n",
      "    two\n",
      "None\n"
     ]
    }
   ],
   "source": [
    "for tag in pos_df.POS.unique():\n",
    "    print(nltk.help.upenn_tagset(tag))"
   ],
   "metadata": {
    "collapsed": false,
    "pycharm": {
     "name": "#%%\n"
    }
   }
  },
  {
   "cell_type": "code",
   "execution_count": 15,
   "outputs": [
    {
     "data": {
      "text/plain": "[('current', 'JJ'),\n ('employees', 'NNS'),\n ('and', 'CC'),\n ('contingent', 'JJ'),\n ('workers', 'NNS'),\n ('click', 'VBP'),\n ('here', 'RB'),\n ('to', 'TO'),\n ('apply', 'VB'),\n ('and', 'CC'),\n ('search', 'VB'),\n ('by', 'IN'),\n ('the', 'DT'),\n ('job', 'NN'),\n ('posting', 'VBG'),\n ('title', 'NN'),\n ('.', '.'),\n ('job', 'NN'),\n ('summary', 'JJ'),\n (':', ':'),\n (',', ','),\n ('as', 'IN'),\n ('a', 'DT'),\n ('data', 'NN'),\n ('scientist', 'NN'),\n (',', ','),\n ('you', 'PRP'),\n ('will', 'MD'),\n (':', ':'),\n (',', ','),\n ('use', 'VBP'),\n ('emerging', 'VBG'),\n ('tools', 'NNS'),\n ('and', 'CC'),\n ('technology', 'NN'),\n ('to', 'TO'),\n ('develop', 'VB'),\n ('analytical', 'JJ'),\n ('models', 'NNS'),\n ('and', 'CC'),\n ('automation', 'NN'),\n ('in', 'IN'),\n ('music', 'NN'),\n ('planning', 'NN'),\n (',', ','),\n ('music', 'NN'),\n ('research', 'NN'),\n (',', ','),\n ('and', 'CC'),\n ('other', 'JJ'),\n ('areas', 'NNS'),\n ('of', 'IN'),\n ('the', 'DT'),\n ('company', 'NN'),\n ('communicate', 'NN'),\n ('complex', 'JJ'),\n ('solutions', 'NNS'),\n ('to', 'TO'),\n ('a', 'DT'),\n ('variety', 'NN'),\n ('of', 'IN'),\n ('stakeholders', 'NNS'),\n ('in', 'IN'),\n ('easily', 'RB'),\n ('understandable', 'JJ'),\n ('language', 'NN'),\n ('be', 'VB'),\n ('a', 'DT'),\n ('contributing', 'JJ'),\n ('member', 'NN'),\n ('of', 'IN'),\n ('a', 'DT'),\n ('scrum', 'NN'),\n ('team', 'NN'),\n ('that', 'WDT'),\n ('voluntarily', 'RB'),\n ('accepts', 'VBZ'),\n ('work', 'NN'),\n ('write', 'JJ'),\n ('code', 'NN'),\n ('that', 'WDT'),\n ('meets', 'VBZ'),\n ('standards', 'NNS'),\n ('and', 'CC'),\n ('delivers', 'NNS'),\n ('desired', 'VBD'),\n ('functionality', 'NN'),\n ('using', 'VBG'),\n ('agreed', 'VBN'),\n ('upon', 'IN'),\n ('technology', 'NN'),\n ('demonstrate', 'NN'),\n ('passion', 'NN'),\n ('about', 'IN'),\n ('using', 'VBG'),\n ('data', 'NNS'),\n ('assets', 'NNS'),\n ('to', 'TO'),\n ('optimize', 'VB'),\n ('systems', 'NNS'),\n ('and', 'CC'),\n ('products', 'NNS'),\n ('across', 'IN'),\n ('iheartmedia', 'NN'),\n ('use', 'NN'),\n ('and', 'CC'),\n ('extend', 'VB'),\n ('open', 'JJ'),\n ('source', 'NN'),\n ('software', 'NN'),\n ('to', 'TO'),\n ('deliver', 'VB'),\n ('solutions', 'NNS'),\n ('to', 'TO'),\n ('iheartmedia', 'VB'),\n ('business', 'NN'),\n ('partners', 'NNS'),\n ('present', 'JJ'),\n ('solutions', 'NNS'),\n ('and', 'CC'),\n ('ideas', 'NNS'),\n ('to', 'TO'),\n ('other', 'JJ'),\n ('team', 'NN'),\n ('members', 'NNS'),\n (',', ','),\n ('it', 'PRP'),\n ('leadership', 'NN'),\n (',', ','),\n ('and', 'CC'),\n ('business', 'NN'),\n ('leaders', 'NNS'),\n ('employ', 'VBP'),\n ('a', 'DT'),\n ('pragmatic', 'JJ'),\n ('approach', 'NN'),\n ('to', 'TO'),\n ('evaluate', 'VB'),\n ('new', 'JJ'),\n ('algorithms', 'NNS'),\n ('and', 'CC'),\n ('technologies', 'NNS'),\n ('for', 'IN'),\n ('positive', 'JJ'),\n ('impact', 'NN'),\n ('within', 'IN'),\n ('iheartmedia', 'NN'),\n (',', ','),\n ('requirements', 'NNS'),\n (':', ':'),\n (',', ','),\n ('5+', 'CD'),\n ('years', 'NNS'),\n ('of', 'IN'),\n ('commercial', 'JJ'),\n ('experience', 'NN'),\n ('in', 'IN'),\n ('data', 'NNS'),\n ('science', 'NN'),\n ('a', 'DT'),\n ('demonstrable', 'JJ'),\n ('understanding', 'NN'),\n ('of', 'IN'),\n ('machine', 'NN'),\n ('learning', 'VBG'),\n ('theory', 'JJ'),\n ('extensive', 'JJ'),\n ('experience', 'NN'),\n ('with', 'IN'),\n ('python', 'NN'),\n ('and/or', 'NN'),\n ('r', 'NN'),\n ('demonstrated', 'VBD'),\n ('experience', 'NN'),\n ('with', 'IN'),\n ('sql', 'JJ'),\n ('exceptional', 'JJ'),\n ('communication', 'NN'),\n ('and', 'CC'),\n ('presentation', 'NN'),\n ('skills', 'NNS'),\n ('are', 'VBP'),\n ('a', 'DT'),\n ('requirement', 'JJ'),\n ('programming', 'NN'),\n ('experience', 'NN'),\n ('in', 'IN'),\n ('javascript', 'NN'),\n ('or', 'CC'),\n ('java', 'NN'),\n ('for', 'IN'),\n ('use', 'NN'),\n ('in', 'IN'),\n ('reading', 'VBG'),\n ('existing', 'VBG'),\n ('code', 'NN'),\n ('or', 'CC'),\n ('building', 'NN'),\n ('prototypes', 'NNS'),\n ('you', 'PRP'),\n ('do', 'VBP'),\n ('not', 'RB'),\n ('have', 'VB'),\n ('to', 'TO'),\n ('have', 'VB'),\n ('experience', 'NN'),\n ('building', 'NN'),\n ('production', 'NN'),\n ('applications', 'NNS'),\n ('ms', 'VBP'),\n ('in', 'IN'),\n ('applied', 'JJ'),\n ('mathematics', 'NNS'),\n (',', ','),\n ('statistics', 'NNS'),\n (',', ','),\n ('or', 'CC'),\n ('computer', 'NN'),\n ('science', 'NN'),\n ('-', ':'),\n ('phd', 'NN'),\n ('desired', 'VBD'),\n (',', ','),\n ('bonus', 'NN'),\n (':', ':'),\n (',', ','),\n ('data', 'NNS'),\n ('engineering/data', 'NNS'),\n ('wrangling', 'VBG'),\n ('experience', 'NN'),\n ('with', 'IN'),\n ('tensorflow', 'NN'),\n (',', ','),\n ('bigquery', 'NN'),\n (',', ','),\n ('tableau', 'JJ'),\n ('experience', 'NN'),\n ('with', 'IN'),\n ('google', 'JJ'),\n ('cloud', 'NN'),\n ('platform', 'NN'),\n ('or', 'CC'),\n ('amazon', 'NN'),\n ('web', 'NN'),\n ('services', 'NNS'),\n (',', ','),\n ('location', 'NN'),\n (',', ','),\n ('position', 'NN'),\n ('type', 'NN'),\n (',', ','),\n ('the', 'DT'),\n ('company', 'NN'),\n ('is', 'VBZ'),\n ('an', 'DT'),\n ('equal', 'JJ'),\n ('opportunity', 'NN'),\n ('employer', 'NN'),\n ('and', 'CC'),\n ('will', 'MD'),\n ('not', 'RB'),\n ('tolerate', 'VB'),\n ('discrimination', 'NN'),\n ('in', 'IN'),\n ('employment', 'NN'),\n ('on', 'IN'),\n ('the', 'DT'),\n ('basis', 'NN'),\n ('of', 'IN'),\n ('race', 'NN'),\n (',', ','),\n ('color', 'NN'),\n (',', ','),\n ('age', 'NN'),\n (',', ','),\n ('sex', 'NN'),\n (',', ','),\n ('sexual', 'JJ'),\n ('orientation', 'NN'),\n (',', ','),\n ('gender', 'NN'),\n ('identity', 'NN'),\n ('or', 'CC'),\n ('expression', 'NN'),\n (',', ','),\n ('religion', 'NN'),\n (',', ','),\n ('disability', 'NN'),\n (',', ','),\n ('ethnicity', 'NN'),\n (',', ','),\n ('national', 'JJ'),\n ('origin', 'NN'),\n (',', ','),\n ('marital', 'JJ'),\n ('status', 'NN'),\n (',', ','),\n ('protected', 'VBD'),\n ('veteran', 'NN'),\n ('status', 'NN'),\n (',', ','),\n ('genetic', 'JJ'),\n ('information', 'NN'),\n (',', ','),\n ('or', 'CC'),\n ('any', 'DT'),\n ('other', 'JJ'),\n ('legally', 'RB'),\n ('protected', 'VBN'),\n ('classification', 'NN'),\n ('or', 'CC'),\n ('status', 'NN'),\n ('.', '.'),\n ('our', 'PRP$'),\n ('organization', 'NN'),\n ('participates', 'VBZ'),\n ('in', 'IN'),\n ('e-verify', 'NN'),\n ('.', '.'),\n ('click', 'NN'),\n ('here', 'RB'),\n ('to', 'TO'),\n ('learn', 'VB'),\n ('about', 'IN'),\n ('e-verify', 'JJ'),\n ('.', '.'),\n ('current', 'JJ'),\n ('employees', 'NNS'),\n ('and', 'CC'),\n ('contingent', 'JJ'),\n ('workers', 'NNS'),\n ('click', 'VBP'),\n ('here', 'RB'),\n ('to', 'TO'),\n ('apply', 'VB'),\n ('and', 'CC'),\n ('search', 'VB'),\n ('by', 'IN'),\n ('the', 'DT'),\n ('job', 'NN'),\n ('posting', 'VBG'),\n ('title', 'NN'),\n ('.', '.')]"
     },
     "execution_count": 15,
     "metadata": {},
     "output_type": "execute_result"
    }
   ],
   "source": [
    "pos_tagged_arrs[578]"
   ],
   "metadata": {
    "collapsed": false,
    "pycharm": {
     "name": "#%%\n"
    }
   }
  },
  {
   "cell_type": "code",
   "execution_count": null,
   "outputs": [],
   "source": [],
   "metadata": {
    "collapsed": false,
    "pycharm": {
     "name": "#%%\n"
    }
   }
  }
 ],
 "metadata": {
  "kernelspec": {
   "display_name": "Python 3",
   "language": "python",
   "name": "python3"
  },
  "language_info": {
   "codemirror_mode": {
    "name": "ipython",
    "version": 2
   },
   "file_extension": ".py",
   "mimetype": "text/x-python",
   "name": "python",
   "nbconvert_exporter": "python",
   "pygments_lexer": "ipython2",
   "version": "2.7.6"
  }
 },
 "nbformat": 4,
 "nbformat_minor": 0
}