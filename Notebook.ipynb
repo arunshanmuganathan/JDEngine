{
 "cells": [
  {
   "cell_type": "code",
   "execution_count": 1,
   "metadata": {
    "collapsed": true
   },
   "outputs": [
    {
     "name": "stderr",
     "output_type": "stream",
     "text": [
      "C:\\Users\\Arun\\PycharmProjects\\JDEngine\\venv\\lib\\site-packages\\hub\\util\\check_latest_version.py:32: UserWarning: A newer version of hub (2.5.1) is available. It's recommended that you update to the latest version using `pip install -U hub`.\n",
      "  warnings.warn(\n"
     ]
    }
   ],
   "source": [
    "# Import Libraries\n",
    "import cv as cv\n",
    "import hub as hub\n",
    "import pandas\n",
    "import pandas as pd\n",
    "import numpy as np\n",
    "import re\n",
    "\n",
    "import matplotlib\n",
    "import matplotlib.pyplot as plt\n",
    "import seaborn as sns\n",
    "from wordcloud import WordCloud\n",
    "from sklearn.feature_extraction.text import CountVectorizer\n",
    "\n",
    "import nltk\n",
    "from nltk.tokenize import sent_tokenize, word_tokenize, RegexpTokenizer\n",
    "from nltk.corpus import stopwords\n",
    "from nltk import PorterStemmer\n",
    "from nltk import WordNetLemmatizer\n",
    "from sklearn.feature_extraction.text import TfidfVectorizer\n",
    "from sklearn.model_selection import train_test_split\n",
    "from sklearn.metrics.pairwise import cosine_similarity\n",
    "import spacy\n",
    "from rake_nltk import Rake\n",
    "import yake\n",
    "import streamlit as st\n",
    "# from streamlit_folium import folium_static\n",
    "\n",
    "import tensorflow as tf\n",
    "import tensorflow_hub as hub\n",
    "import tensorflow_text as text\n",
    "\n",
    "font = {'family' : 'normal',\n",
    "        'weight' : 'bold',\n",
    "        'size'   : 22}"
   ]
  },
  {
   "cell_type": "code",
   "execution_count": 2,
   "outputs": [],
   "source": [
    "df = pandas.read_csv('dataset_csv.csv', encoding='windows-1252')"
   ],
   "metadata": {
    "collapsed": false,
    "pycharm": {
     "name": "#%%\n"
    }
   }
  },
  {
   "cell_type": "code",
   "execution_count": 3,
   "outputs": [
    {
     "data": {
      "text/plain": "                                   Job Titles  \\\n0             Manager - Business Applications   \n1   Assistant Manager - Business Applications   \n2                        Tech Lead - Software   \n3               Tech Lead - Quality Assurance   \n4              Associate Team Lead - Software   \n5     Associate Team Lead - Quality Assurance   \n6                    Senior Software Engineer   \n7                          Senior QA Engineer   \n8                           Software Engineer   \n9                                 QA Engineer   \n10                           Business Analyst   \n11               Application Support Engineer   \n12                Associate Software Engineer   \n13                      Associate QA Engineer   \n14     Associate Application Support Engineer   \n15                  Trainee Software Engineer   \n16                        Trainee QA Engineer   \n17       Trainee Application Support Engineer   \n\n                                     Responsibilities  \\\n0   Achieving and managing the planned timelines a...   \n1   Achieving the planned timelines and objectives...   \n2   Determining project requirements and developin...   \n3   Lead QA team on overall testing activities, ap...   \n4   Develop and maintain an integration architectu...   \n5   Lead pre-testing phase of development by evalu...   \n6   Achieving the planned timelines and objectives...   \n7   Meeting with the software/product designers to...   \n8   Completion of assigned tasks or projects on fi...   \n9   Completion of assigned tasks or projects on fi...   \n10  The quality of completed tasks or projects (BA...   \n11  Knowledge of operational and functional proces...   \n12  Completion of assigned tasks or projects on fi...   \n13  Completion of assigned tasks or projects on fi...   \n14  Knowledge of operational and functional proces...   \n15  Completion of assigned tasks or projects on fi...   \n16  Completion of assigned tasks or projects on fi...   \n17  Knowledge of operational and functional proces...   \n\n                                         Requirements  Experience_Years  \\\n0   A bachelor's degree in software engineering, c...                10   \n1   A bachelor's degree in software engineering, c...                 8   \n2   A bachelor's degree in software engineering, c...                 7   \n3   A bachelor's degree in software engineering, c...                 7   \n4   A bachelor's degree in software engineering, c...                 5   \n5   A bachelor's degree in software engineering, c...                 5   \n6   A bachelor's degree in software engineering, c...                 3   \n7   A bachelor's degree in software engineering, c...                 3   \n8   A bachelor's degree in software engineering, c...                 2   \n9   A bachelor's degree in software engineering, c...                 2   \n10  A bachelor's degree in business or related fie...                 3   \n11  A bachelor's degree in software engineering, c...                 2   \n12  A bachelor's degree in software engineering, c...                 1   \n13  A bachelor's degree in software engineering, c...                 1   \n14  A bachelor's degree in software engineering, c...                 1   \n15  A bachelor's degree in software engineering, c...                 0   \n16  A bachelor's degree in software engineering, c...                 0   \n17  A bachelor's degree in software engineering, c...                 0   \n\n    Degree                                           Keywords  \n0        1  automated software and system management tools...  \n1        1  hands-on experience with automated software an...  \n2        1  leadership and organizational abilities, techn...  \n3        1  experience in software QA, people management, ...  \n4        1  experience as a Senior Software engineer/ Asso...  \n5        1  experience as a Senior QA engineer, High-level...  \n6        1  experience in software development, scripting ...  \n7        1  High-level analytical skills, Agile Testing me...  \n8        1  Creative problem-solving skills, software deve...  \n9        1  experience in software quality assurance, writ...  \n10       2  Excellent documentation skills, planning, orga...  \n11       1  manage code migration, document configuration ...  \n12       1  Hands-on programming experience, problem-solvi...  \n13       1  Experience with automated testing tools or equ...  \n14       1  Troubleshooting skills, proficiency in determi...  \n15       1  Proficiency in mathematics, Coding ability in ...  \n16       1  Proficiency in mathematics, Knowledge in web-b...  \n17       1  Proficiency in mathematics, Analytical and cri...  ",
      "text/html": "<div>\n<style scoped>\n    .dataframe tbody tr th:only-of-type {\n        vertical-align: middle;\n    }\n\n    .dataframe tbody tr th {\n        vertical-align: top;\n    }\n\n    .dataframe thead th {\n        text-align: right;\n    }\n</style>\n<table border=\"1\" class=\"dataframe\">\n  <thead>\n    <tr style=\"text-align: right;\">\n      <th></th>\n      <th>Job Titles</th>\n      <th>Responsibilities</th>\n      <th>Requirements</th>\n      <th>Experience_Years</th>\n      <th>Degree</th>\n      <th>Keywords</th>\n    </tr>\n  </thead>\n  <tbody>\n    <tr>\n      <th>0</th>\n      <td>Manager - Business Applications</td>\n      <td>Achieving and managing the planned timelines a...</td>\n      <td>A bachelor's degree in software engineering, c...</td>\n      <td>10</td>\n      <td>1</td>\n      <td>automated software and system management tools...</td>\n    </tr>\n    <tr>\n      <th>1</th>\n      <td>Assistant Manager - Business Applications</td>\n      <td>Achieving the planned timelines and objectives...</td>\n      <td>A bachelor's degree in software engineering, c...</td>\n      <td>8</td>\n      <td>1</td>\n      <td>hands-on experience with automated software an...</td>\n    </tr>\n    <tr>\n      <th>2</th>\n      <td>Tech Lead - Software</td>\n      <td>Determining project requirements and developin...</td>\n      <td>A bachelor's degree in software engineering, c...</td>\n      <td>7</td>\n      <td>1</td>\n      <td>leadership and organizational abilities, techn...</td>\n    </tr>\n    <tr>\n      <th>3</th>\n      <td>Tech Lead - Quality Assurance</td>\n      <td>Lead QA team on overall testing activities, ap...</td>\n      <td>A bachelor's degree in software engineering, c...</td>\n      <td>7</td>\n      <td>1</td>\n      <td>experience in software QA, people management, ...</td>\n    </tr>\n    <tr>\n      <th>4</th>\n      <td>Associate Team Lead - Software</td>\n      <td>Develop and maintain an integration architectu...</td>\n      <td>A bachelor's degree in software engineering, c...</td>\n      <td>5</td>\n      <td>1</td>\n      <td>experience as a Senior Software engineer/ Asso...</td>\n    </tr>\n    <tr>\n      <th>5</th>\n      <td>Associate Team Lead - Quality Assurance</td>\n      <td>Lead pre-testing phase of development by evalu...</td>\n      <td>A bachelor's degree in software engineering, c...</td>\n      <td>5</td>\n      <td>1</td>\n      <td>experience as a Senior QA engineer, High-level...</td>\n    </tr>\n    <tr>\n      <th>6</th>\n      <td>Senior Software Engineer</td>\n      <td>Achieving the planned timelines and objectives...</td>\n      <td>A bachelor's degree in software engineering, c...</td>\n      <td>3</td>\n      <td>1</td>\n      <td>experience in software development, scripting ...</td>\n    </tr>\n    <tr>\n      <th>7</th>\n      <td>Senior QA Engineer</td>\n      <td>Meeting with the software/product designers to...</td>\n      <td>A bachelor's degree in software engineering, c...</td>\n      <td>3</td>\n      <td>1</td>\n      <td>High-level analytical skills, Agile Testing me...</td>\n    </tr>\n    <tr>\n      <th>8</th>\n      <td>Software Engineer</td>\n      <td>Completion of assigned tasks or projects on fi...</td>\n      <td>A bachelor's degree in software engineering, c...</td>\n      <td>2</td>\n      <td>1</td>\n      <td>Creative problem-solving skills, software deve...</td>\n    </tr>\n    <tr>\n      <th>9</th>\n      <td>QA Engineer</td>\n      <td>Completion of assigned tasks or projects on fi...</td>\n      <td>A bachelor's degree in software engineering, c...</td>\n      <td>2</td>\n      <td>1</td>\n      <td>experience in software quality assurance, writ...</td>\n    </tr>\n    <tr>\n      <th>10</th>\n      <td>Business Analyst</td>\n      <td>The quality of completed tasks or projects (BA...</td>\n      <td>A bachelor's degree in business or related fie...</td>\n      <td>3</td>\n      <td>2</td>\n      <td>Excellent documentation skills, planning, orga...</td>\n    </tr>\n    <tr>\n      <th>11</th>\n      <td>Application Support Engineer</td>\n      <td>Knowledge of operational and functional proces...</td>\n      <td>A bachelor's degree in software engineering, c...</td>\n      <td>2</td>\n      <td>1</td>\n      <td>manage code migration, document configuration ...</td>\n    </tr>\n    <tr>\n      <th>12</th>\n      <td>Associate Software Engineer</td>\n      <td>Completion of assigned tasks or projects on fi...</td>\n      <td>A bachelor's degree in software engineering, c...</td>\n      <td>1</td>\n      <td>1</td>\n      <td>Hands-on programming experience, problem-solvi...</td>\n    </tr>\n    <tr>\n      <th>13</th>\n      <td>Associate QA Engineer</td>\n      <td>Completion of assigned tasks or projects on fi...</td>\n      <td>A bachelor's degree in software engineering, c...</td>\n      <td>1</td>\n      <td>1</td>\n      <td>Experience with automated testing tools or equ...</td>\n    </tr>\n    <tr>\n      <th>14</th>\n      <td>Associate Application Support Engineer</td>\n      <td>Knowledge of operational and functional proces...</td>\n      <td>A bachelor's degree in software engineering, c...</td>\n      <td>1</td>\n      <td>1</td>\n      <td>Troubleshooting skills, proficiency in determi...</td>\n    </tr>\n    <tr>\n      <th>15</th>\n      <td>Trainee Software Engineer</td>\n      <td>Completion of assigned tasks or projects on fi...</td>\n      <td>A bachelor's degree in software engineering, c...</td>\n      <td>0</td>\n      <td>1</td>\n      <td>Proficiency in mathematics, Coding ability in ...</td>\n    </tr>\n    <tr>\n      <th>16</th>\n      <td>Trainee QA Engineer</td>\n      <td>Completion of assigned tasks or projects on fi...</td>\n      <td>A bachelor's degree in software engineering, c...</td>\n      <td>0</td>\n      <td>1</td>\n      <td>Proficiency in mathematics, Knowledge in web-b...</td>\n    </tr>\n    <tr>\n      <th>17</th>\n      <td>Trainee Application Support Engineer</td>\n      <td>Knowledge of operational and functional proces...</td>\n      <td>A bachelor's degree in software engineering, c...</td>\n      <td>0</td>\n      <td>1</td>\n      <td>Proficiency in mathematics, Analytical and cri...</td>\n    </tr>\n  </tbody>\n</table>\n</div>"
     },
     "execution_count": 3,
     "metadata": {},
     "output_type": "execute_result"
    }
   ],
   "source": [
    "df"
   ],
   "metadata": {
    "collapsed": false,
    "pycharm": {
     "name": "#%%\n"
    }
   }
  },
  {
   "cell_type": "code",
   "execution_count": 4,
   "outputs": [
    {
     "data": {
      "text/plain": "'hands-on experience with automated software and system management tools, system and software quality assurance best practices, fluent in programming languages, database design and file management, experience with core software applications'"
     },
     "execution_count": 4,
     "metadata": {},
     "output_type": "execute_result"
    }
   ],
   "source": [
    "df['Keywords'].iloc[1]"
   ],
   "metadata": {
    "collapsed": false,
    "pycharm": {
     "name": "#%%\n"
    }
   }
  },
  {
   "cell_type": "code",
   "execution_count": 28,
   "outputs": [],
   "source": [
    "stop_words = set(stopwords.words('english'))\n",
    "\n",
    "def pre_process(text):\n",
    "\n",
    "    # lowercase\n",
    "    text=text.lower()\n",
    "\n",
    "    #remove tags\n",
    "    text=re.sub(\"&lt;/?.*?&gt;\",\" &lt;&gt; \",text)\n",
    "\n",
    "    ##Convert to list from string\n",
    "    text = text.split()\n",
    "\n",
    "    # remove stopwords\n",
    "    text = [word for word in text if word not in stop_words]\n",
    "\n",
    "    # lemmatize\n",
    "    lmtzr = WordNetLemmatizer()\n",
    "    text = [lmtzr.lemmatize(word) for word in text]\n",
    "\n",
    "    return ' '.join(text)"
   ],
   "metadata": {
    "collapsed": false,
    "pycharm": {
     "name": "#%%\n"
    }
   }
  },
  {
   "cell_type": "code",
   "execution_count": 29,
   "outputs": [],
   "source": [
    "Resp_preprocessed = df['Responsibilities'].apply(lambda x:pre_process(x))"
   ],
   "metadata": {
    "collapsed": false,
    "pycharm": {
     "name": "#%%\n"
    }
   }
  },
  {
   "cell_type": "code",
   "execution_count": 30,
   "outputs": [
    {
     "data": {
      "text/plain": "0     achieving managing planned timeline objective ...\n1     achieving planned timeline objective related d...\n2     determining project requirement developing wor...\n3     lead qa team overall testing activities, appro...\n4     develop maintain integration architecture blue...\n5     lead pre-testing phase development evaluating ...\n6     achieving planned timeline objective related d...\n7     meeting software/product designer determine qu...\n8     completion assigned task project fixed / agree...\n9     completion assigned task project fixed / agree...\n10    quality completed task project (ba) completion...\n11    knowledge operational functional process compl...\n12    completion assigned task project fixed / agree...\n13    completion assigned task project fixed / agree...\n14    knowledge operational functional process compl...\n15    completion assigned task project fixed / agree...\n16    completion assigned task project fixed / agree...\n17    knowledge operational functional process compl...\nName: Responsibilities, dtype: object"
     },
     "execution_count": 30,
     "metadata": {},
     "output_type": "execute_result"
    }
   ],
   "source": [
    "Resp_preprocessed"
   ],
   "metadata": {
    "collapsed": false,
    "pycharm": {
     "name": "#%%\n"
    }
   }
  },
  {
   "cell_type": "code",
   "execution_count": 31,
   "outputs": [],
   "source": [
    "def get_keywords_rake(idx, docs, n=10):\n",
    "    # Uses stopwords for english from NLTK, and all puntuation characters by default\n",
    "    r = Rake()\n",
    "\n",
    "    # Extraction given the text.\n",
    "    r.extract_keywords_from_text(docs[idx])\n",
    "\n",
    "    # To get keyword phrases ranked highest to lowest.\n",
    "    keywords = r.get_ranked_phrases()[0:n]\n",
    "\n",
    "    return keywords\n",
    "\n",
    "def print_results(idx,keywords, df):\n",
    "    # now print the results\n",
    "    for k in keywords:\n",
    "        print(k)"
   ],
   "metadata": {
    "collapsed": false,
    "pycharm": {
     "name": "#%%\n"
    }
   }
  },
  {
   "cell_type": "code",
   "execution_count": 32,
   "outputs": [
    {
     "name": "stdout",
     "output_type": "stream",
     "text": [
      "company systems meets functional requirements\n",
      "development projects meet business requirements\n",
      "analyze existing application effectiveness\n",
      "identify potential problem areas\n",
      "give advice based\n",
      "coordinate feasibility studies\n",
      "resolve systems issues\n",
      "existing applications throughout\n",
      "new software programs\n",
      "new software integration\n"
     ]
    }
   ],
   "source": [
    "idx=5\n",
    "keywords = get_keywords_rake(idx, df['Responsibilities'], n=10)\n",
    "print_results(idx, keywords, df)"
   ],
   "metadata": {
    "collapsed": false,
    "pycharm": {
     "name": "#%%\n"
    }
   }
  },
  {
   "cell_type": "code",
   "execution_count": 33,
   "outputs": [
    {
     "data": {
      "text/plain": "['company systems meets functional requirements',\n 'development projects meet business requirements',\n 'analyze existing application effectiveness',\n 'identify potential problem areas',\n 'give advice based',\n 'coordinate feasibility studies',\n 'resolve systems issues',\n 'existing applications throughout',\n 'new software programs',\n 'new software integration']"
     },
     "execution_count": 33,
     "metadata": {},
     "output_type": "execute_result"
    }
   ],
   "source": [
    "keywords"
   ],
   "metadata": {
    "collapsed": false,
    "pycharm": {
     "name": "#%%\n"
    }
   }
  },
  {
   "cell_type": "code",
   "execution_count": 34,
   "outputs": [
    {
     "name": "stdout",
     "output_type": "stream",
     "text": [
      "verbal communication skills\n",
      "senior qa engineer\n",
      "ms office 365\n",
      "level analytical skills\n",
      "managerial experience preferred\n",
      "5 years experience\n",
      "previous experience\n",
      "relevant field\n",
      "relevant field\n",
      "project manage\n"
     ]
    }
   ],
   "source": [
    "idx=5\n",
    "keywords = get_keywords_rake(idx, df['Requirements'], n=10)\n",
    "print_results(idx, keywords, df)"
   ],
   "metadata": {
    "collapsed": false,
    "pycharm": {
     "name": "#%%\n"
    }
   }
  },
  {
   "cell_type": "code",
   "execution_count": 35,
   "outputs": [],
   "source": [
    "skills_df = pd.DataFrame(df['Job Titles'])\n",
    "df_new = pd.DataFrame()"
   ],
   "metadata": {
    "collapsed": false,
    "pycharm": {
     "name": "#%%\n"
    }
   }
  },
  {
   "cell_type": "code",
   "execution_count": 36,
   "outputs": [
    {
     "data": {
      "text/plain": "                                   Job Titles\n0             Manager - Business Applications\n1   Assistant Manager - Business Applications\n2                        Tech Lead - Software\n3               Tech Lead - Quality Assurance\n4              Associate Team Lead - Software\n5     Associate Team Lead - Quality Assurance\n6                    Senior Software Engineer\n7                          Senior QA Engineer\n8                           Software Engineer\n9                                 QA Engineer\n10                           Business Analyst\n11               Application Support Engineer\n12                Associate Software Engineer\n13                      Associate QA Engineer\n14     Associate Application Support Engineer\n15                  Trainee Software Engineer\n16                        Trainee QA Engineer\n17       Trainee Application Support Engineer",
      "text/html": "<div>\n<style scoped>\n    .dataframe tbody tr th:only-of-type {\n        vertical-align: middle;\n    }\n\n    .dataframe tbody tr th {\n        vertical-align: top;\n    }\n\n    .dataframe thead th {\n        text-align: right;\n    }\n</style>\n<table border=\"1\" class=\"dataframe\">\n  <thead>\n    <tr style=\"text-align: right;\">\n      <th></th>\n      <th>Job Titles</th>\n    </tr>\n  </thead>\n  <tbody>\n    <tr>\n      <th>0</th>\n      <td>Manager - Business Applications</td>\n    </tr>\n    <tr>\n      <th>1</th>\n      <td>Assistant Manager - Business Applications</td>\n    </tr>\n    <tr>\n      <th>2</th>\n      <td>Tech Lead - Software</td>\n    </tr>\n    <tr>\n      <th>3</th>\n      <td>Tech Lead - Quality Assurance</td>\n    </tr>\n    <tr>\n      <th>4</th>\n      <td>Associate Team Lead - Software</td>\n    </tr>\n    <tr>\n      <th>5</th>\n      <td>Associate Team Lead - Quality Assurance</td>\n    </tr>\n    <tr>\n      <th>6</th>\n      <td>Senior Software Engineer</td>\n    </tr>\n    <tr>\n      <th>7</th>\n      <td>Senior QA Engineer</td>\n    </tr>\n    <tr>\n      <th>8</th>\n      <td>Software Engineer</td>\n    </tr>\n    <tr>\n      <th>9</th>\n      <td>QA Engineer</td>\n    </tr>\n    <tr>\n      <th>10</th>\n      <td>Business Analyst</td>\n    </tr>\n    <tr>\n      <th>11</th>\n      <td>Application Support Engineer</td>\n    </tr>\n    <tr>\n      <th>12</th>\n      <td>Associate Software Engineer</td>\n    </tr>\n    <tr>\n      <th>13</th>\n      <td>Associate QA Engineer</td>\n    </tr>\n    <tr>\n      <th>14</th>\n      <td>Associate Application Support Engineer</td>\n    </tr>\n    <tr>\n      <th>15</th>\n      <td>Trainee Software Engineer</td>\n    </tr>\n    <tr>\n      <th>16</th>\n      <td>Trainee QA Engineer</td>\n    </tr>\n    <tr>\n      <th>17</th>\n      <td>Trainee Application Support Engineer</td>\n    </tr>\n  </tbody>\n</table>\n</div>"
     },
     "execution_count": 36,
     "metadata": {},
     "output_type": "execute_result"
    }
   ],
   "source": [
    "skills_df"
   ],
   "metadata": {
    "collapsed": false,
    "pycharm": {
     "name": "#%%\n"
    }
   }
  },
  {
   "cell_type": "code",
   "execution_count": 37,
   "outputs": [
    {
     "name": "stderr",
     "output_type": "stream",
     "text": [
      "C:\\Users\\Arun\\AppData\\Local\\Temp\\ipykernel_11200\\3618932339.py:6: FutureWarning: The frame.append method is deprecated and will be removed from pandas in a future version. Use pandas.concat instead.\n",
      "  df_new = df_new.append({'Job Title': skills_df.iat[x,0], 'Responsibilities' : keywords_resp , 'Requirements': keywords_req}, ignore_index=True)\n",
      "C:\\Users\\Arun\\AppData\\Local\\Temp\\ipykernel_11200\\3618932339.py:6: FutureWarning: The frame.append method is deprecated and will be removed from pandas in a future version. Use pandas.concat instead.\n",
      "  df_new = df_new.append({'Job Title': skills_df.iat[x,0], 'Responsibilities' : keywords_resp , 'Requirements': keywords_req}, ignore_index=True)\n",
      "C:\\Users\\Arun\\AppData\\Local\\Temp\\ipykernel_11200\\3618932339.py:6: FutureWarning: The frame.append method is deprecated and will be removed from pandas in a future version. Use pandas.concat instead.\n",
      "  df_new = df_new.append({'Job Title': skills_df.iat[x,0], 'Responsibilities' : keywords_resp , 'Requirements': keywords_req}, ignore_index=True)\n",
      "C:\\Users\\Arun\\AppData\\Local\\Temp\\ipykernel_11200\\3618932339.py:6: FutureWarning: The frame.append method is deprecated and will be removed from pandas in a future version. Use pandas.concat instead.\n",
      "  df_new = df_new.append({'Job Title': skills_df.iat[x,0], 'Responsibilities' : keywords_resp , 'Requirements': keywords_req}, ignore_index=True)\n",
      "C:\\Users\\Arun\\AppData\\Local\\Temp\\ipykernel_11200\\3618932339.py:6: FutureWarning: The frame.append method is deprecated and will be removed from pandas in a future version. Use pandas.concat instead.\n",
      "  df_new = df_new.append({'Job Title': skills_df.iat[x,0], 'Responsibilities' : keywords_resp , 'Requirements': keywords_req}, ignore_index=True)\n",
      "C:\\Users\\Arun\\AppData\\Local\\Temp\\ipykernel_11200\\3618932339.py:6: FutureWarning: The frame.append method is deprecated and will be removed from pandas in a future version. Use pandas.concat instead.\n",
      "  df_new = df_new.append({'Job Title': skills_df.iat[x,0], 'Responsibilities' : keywords_resp , 'Requirements': keywords_req}, ignore_index=True)\n",
      "C:\\Users\\Arun\\AppData\\Local\\Temp\\ipykernel_11200\\3618932339.py:6: FutureWarning: The frame.append method is deprecated and will be removed from pandas in a future version. Use pandas.concat instead.\n",
      "  df_new = df_new.append({'Job Title': skills_df.iat[x,0], 'Responsibilities' : keywords_resp , 'Requirements': keywords_req}, ignore_index=True)\n",
      "C:\\Users\\Arun\\AppData\\Local\\Temp\\ipykernel_11200\\3618932339.py:6: FutureWarning: The frame.append method is deprecated and will be removed from pandas in a future version. Use pandas.concat instead.\n",
      "  df_new = df_new.append({'Job Title': skills_df.iat[x,0], 'Responsibilities' : keywords_resp , 'Requirements': keywords_req}, ignore_index=True)\n",
      "C:\\Users\\Arun\\AppData\\Local\\Temp\\ipykernel_11200\\3618932339.py:6: FutureWarning: The frame.append method is deprecated and will be removed from pandas in a future version. Use pandas.concat instead.\n",
      "  df_new = df_new.append({'Job Title': skills_df.iat[x,0], 'Responsibilities' : keywords_resp , 'Requirements': keywords_req}, ignore_index=True)\n",
      "C:\\Users\\Arun\\AppData\\Local\\Temp\\ipykernel_11200\\3618932339.py:6: FutureWarning: The frame.append method is deprecated and will be removed from pandas in a future version. Use pandas.concat instead.\n",
      "  df_new = df_new.append({'Job Title': skills_df.iat[x,0], 'Responsibilities' : keywords_resp , 'Requirements': keywords_req}, ignore_index=True)\n",
      "C:\\Users\\Arun\\AppData\\Local\\Temp\\ipykernel_11200\\3618932339.py:6: FutureWarning: The frame.append method is deprecated and will be removed from pandas in a future version. Use pandas.concat instead.\n",
      "  df_new = df_new.append({'Job Title': skills_df.iat[x,0], 'Responsibilities' : keywords_resp , 'Requirements': keywords_req}, ignore_index=True)\n",
      "C:\\Users\\Arun\\AppData\\Local\\Temp\\ipykernel_11200\\3618932339.py:6: FutureWarning: The frame.append method is deprecated and will be removed from pandas in a future version. Use pandas.concat instead.\n",
      "  df_new = df_new.append({'Job Title': skills_df.iat[x,0], 'Responsibilities' : keywords_resp , 'Requirements': keywords_req}, ignore_index=True)\n",
      "C:\\Users\\Arun\\AppData\\Local\\Temp\\ipykernel_11200\\3618932339.py:6: FutureWarning: The frame.append method is deprecated and will be removed from pandas in a future version. Use pandas.concat instead.\n",
      "  df_new = df_new.append({'Job Title': skills_df.iat[x,0], 'Responsibilities' : keywords_resp , 'Requirements': keywords_req}, ignore_index=True)\n",
      "C:\\Users\\Arun\\AppData\\Local\\Temp\\ipykernel_11200\\3618932339.py:6: FutureWarning: The frame.append method is deprecated and will be removed from pandas in a future version. Use pandas.concat instead.\n",
      "  df_new = df_new.append({'Job Title': skills_df.iat[x,0], 'Responsibilities' : keywords_resp , 'Requirements': keywords_req}, ignore_index=True)\n",
      "C:\\Users\\Arun\\AppData\\Local\\Temp\\ipykernel_11200\\3618932339.py:6: FutureWarning: The frame.append method is deprecated and will be removed from pandas in a future version. Use pandas.concat instead.\n",
      "  df_new = df_new.append({'Job Title': skills_df.iat[x,0], 'Responsibilities' : keywords_resp , 'Requirements': keywords_req}, ignore_index=True)\n",
      "C:\\Users\\Arun\\AppData\\Local\\Temp\\ipykernel_11200\\3618932339.py:6: FutureWarning: The frame.append method is deprecated and will be removed from pandas in a future version. Use pandas.concat instead.\n",
      "  df_new = df_new.append({'Job Title': skills_df.iat[x,0], 'Responsibilities' : keywords_resp , 'Requirements': keywords_req}, ignore_index=True)\n",
      "C:\\Users\\Arun\\AppData\\Local\\Temp\\ipykernel_11200\\3618932339.py:6: FutureWarning: The frame.append method is deprecated and will be removed from pandas in a future version. Use pandas.concat instead.\n",
      "  df_new = df_new.append({'Job Title': skills_df.iat[x,0], 'Responsibilities' : keywords_resp , 'Requirements': keywords_req}, ignore_index=True)\n",
      "C:\\Users\\Arun\\AppData\\Local\\Temp\\ipykernel_11200\\3618932339.py:6: FutureWarning: The frame.append method is deprecated and will be removed from pandas in a future version. Use pandas.concat instead.\n",
      "  df_new = df_new.append({'Job Title': skills_df.iat[x,0], 'Responsibilities' : keywords_resp , 'Requirements': keywords_req}, ignore_index=True)\n"
     ]
    }
   ],
   "source": [
    "for x in range(len(skills_df)):\n",
    "    idx = x\n",
    "    keywords_req = get_keywords_rake(idx, df['Requirements'], n=10)\n",
    "    keywords_resp = get_keywords_rake(idx, df['Responsibilities'], n=10)\n",
    "    # updated = pd.Series([skills_df.iloc[x], keywords])\n",
    "    df_new = df_new.append({'Job Title': skills_df.iat[x,0], 'Responsibilities' : keywords_resp , 'Requirements': keywords_req}, ignore_index=True)"
   ],
   "metadata": {
    "collapsed": false,
    "pycharm": {
     "name": "#%%\n"
    }
   }
  },
  {
   "cell_type": "code",
   "execution_count": 38,
   "outputs": [
    {
     "data": {
      "text/plain": "                                    Job Title  \\\n0             Manager - Business Applications   \n1   Assistant Manager - Business Applications   \n2                        Tech Lead - Software   \n3               Tech Lead - Quality Assurance   \n4              Associate Team Lead - Software   \n5     Associate Team Lead - Quality Assurance   \n6                    Senior Software Engineer   \n7                          Senior QA Engineer   \n8                           Software Engineer   \n9                                 QA Engineer   \n10                           Business Analyst   \n11               Application Support Engineer   \n12                Associate Software Engineer   \n13                      Associate QA Engineer   \n14     Associate Application Support Engineer   \n15                  Trainee Software Engineer   \n16                        Trainee QA Engineer   \n17       Trainee Application Support Engineer   \n\n                                     Responsibilities  \\\n0   [software team maintain good housekeeping, app...   \n1   [internal customer handling facilitate problem...   \n2   [writing progress reports, updating work sched...   \n3   [triage calls prioritize testing activities ef...   \n4   [integration projects meet business requiremen...   \n5   [company systems meets functional requirements...   \n6   [projects maintain good housekeeping, improvin...   \n7   [reviewing quality assurance reports, determin...   \n8   [techniques complete tasks effectively provide...   \n9   [techniques complete tasks effectively maintai...   \n10  [functional processes complete tasks effective...   \n11  [functional processes complete tasks effective...   \n12  [techniques complete tasks effectively maintai...   \n13  [techniques complete tasks effectively maintai...   \n14  [functional processes complete tasks effective...   \n15  [techniques complete tasks effectively maintai...   \n16  [techniques complete tasks effectively maintai...   \n17  [functional processes complete tasks effective...   \n\n                                         Requirements  \n0   [software quality assurance best practices, ap...  \n1   [software quality assurance best practices, ap...  \n2   [relevant management certification may, simila...  \n3   [software qa including 3, extract file process...  \n4   [verbal communication skills, senior software ...  \n5   [verbal communication skills, senior qa engine...  \n6   [relevant field experience using system monito...  \n7   [verbal communication skills, ms office softwa...  \n8   [programming experience using relevant languag...  \n9   [software quality assurance strong knowledge, ...  \n10  [microsoft applications including word, experi...  \n11  [manage code migration, document configuration...  \n12  [programming experience using relevant languag...  \n13  [rapidly changing environment excellent verbal...  \n14  [rapidly changing environment excellent verbal...  \n15  [technical field would, good observation skill...  \n16  [technical field would, good observation skill...  \n17  [technical field would, good observation skill...  ",
      "text/html": "<div>\n<style scoped>\n    .dataframe tbody tr th:only-of-type {\n        vertical-align: middle;\n    }\n\n    .dataframe tbody tr th {\n        vertical-align: top;\n    }\n\n    .dataframe thead th {\n        text-align: right;\n    }\n</style>\n<table border=\"1\" class=\"dataframe\">\n  <thead>\n    <tr style=\"text-align: right;\">\n      <th></th>\n      <th>Job Title</th>\n      <th>Responsibilities</th>\n      <th>Requirements</th>\n    </tr>\n  </thead>\n  <tbody>\n    <tr>\n      <th>0</th>\n      <td>Manager - Business Applications</td>\n      <td>[software team maintain good housekeeping, app...</td>\n      <td>[software quality assurance best practices, ap...</td>\n    </tr>\n    <tr>\n      <th>1</th>\n      <td>Assistant Manager - Business Applications</td>\n      <td>[internal customer handling facilitate problem...</td>\n      <td>[software quality assurance best practices, ap...</td>\n    </tr>\n    <tr>\n      <th>2</th>\n      <td>Tech Lead - Software</td>\n      <td>[writing progress reports, updating work sched...</td>\n      <td>[relevant management certification may, simila...</td>\n    </tr>\n    <tr>\n      <th>3</th>\n      <td>Tech Lead - Quality Assurance</td>\n      <td>[triage calls prioritize testing activities ef...</td>\n      <td>[software qa including 3, extract file process...</td>\n    </tr>\n    <tr>\n      <th>4</th>\n      <td>Associate Team Lead - Software</td>\n      <td>[integration projects meet business requiremen...</td>\n      <td>[verbal communication skills, senior software ...</td>\n    </tr>\n    <tr>\n      <th>5</th>\n      <td>Associate Team Lead - Quality Assurance</td>\n      <td>[company systems meets functional requirements...</td>\n      <td>[verbal communication skills, senior qa engine...</td>\n    </tr>\n    <tr>\n      <th>6</th>\n      <td>Senior Software Engineer</td>\n      <td>[projects maintain good housekeeping, improvin...</td>\n      <td>[relevant field experience using system monito...</td>\n    </tr>\n    <tr>\n      <th>7</th>\n      <td>Senior QA Engineer</td>\n      <td>[reviewing quality assurance reports, determin...</td>\n      <td>[verbal communication skills, ms office softwa...</td>\n    </tr>\n    <tr>\n      <th>8</th>\n      <td>Software Engineer</td>\n      <td>[techniques complete tasks effectively provide...</td>\n      <td>[programming experience using relevant languag...</td>\n    </tr>\n    <tr>\n      <th>9</th>\n      <td>QA Engineer</td>\n      <td>[techniques complete tasks effectively maintai...</td>\n      <td>[software quality assurance strong knowledge, ...</td>\n    </tr>\n    <tr>\n      <th>10</th>\n      <td>Business Analyst</td>\n      <td>[functional processes complete tasks effective...</td>\n      <td>[microsoft applications including word, experi...</td>\n    </tr>\n    <tr>\n      <th>11</th>\n      <td>Application Support Engineer</td>\n      <td>[functional processes complete tasks effective...</td>\n      <td>[manage code migration, document configuration...</td>\n    </tr>\n    <tr>\n      <th>12</th>\n      <td>Associate Software Engineer</td>\n      <td>[techniques complete tasks effectively maintai...</td>\n      <td>[programming experience using relevant languag...</td>\n    </tr>\n    <tr>\n      <th>13</th>\n      <td>Associate QA Engineer</td>\n      <td>[techniques complete tasks effectively maintai...</td>\n      <td>[rapidly changing environment excellent verbal...</td>\n    </tr>\n    <tr>\n      <th>14</th>\n      <td>Associate Application Support Engineer</td>\n      <td>[functional processes complete tasks effective...</td>\n      <td>[rapidly changing environment excellent verbal...</td>\n    </tr>\n    <tr>\n      <th>15</th>\n      <td>Trainee Software Engineer</td>\n      <td>[techniques complete tasks effectively maintai...</td>\n      <td>[technical field would, good observation skill...</td>\n    </tr>\n    <tr>\n      <th>16</th>\n      <td>Trainee QA Engineer</td>\n      <td>[techniques complete tasks effectively maintai...</td>\n      <td>[technical field would, good observation skill...</td>\n    </tr>\n    <tr>\n      <th>17</th>\n      <td>Trainee Application Support Engineer</td>\n      <td>[functional processes complete tasks effective...</td>\n      <td>[technical field would, good observation skill...</td>\n    </tr>\n  </tbody>\n</table>\n</div>"
     },
     "execution_count": 38,
     "metadata": {},
     "output_type": "execute_result"
    }
   ],
   "source": [
    "df_new"
   ],
   "metadata": {
    "collapsed": false,
    "pycharm": {
     "name": "#%%\n"
    }
   }
  },
  {
   "cell_type": "code",
   "execution_count": 39,
   "outputs": [],
   "source": [
    "df_new['Keywords'] = df_new['Responsibilities'] + df_new['Requirements']"
   ],
   "metadata": {
    "collapsed": false,
    "pycharm": {
     "name": "#%%\n"
    }
   }
  },
  {
   "cell_type": "code",
   "execution_count": 40,
   "outputs": [],
   "source": [
    "text_keywords = df_new['Keywords'].map(' '.join)"
   ],
   "metadata": {
    "collapsed": false,
    "pycharm": {
     "name": "#%%\n"
    }
   }
  },
  {
   "cell_type": "code",
   "execution_count": 41,
   "outputs": [
    {
     "data": {
      "text/plain": "0     software team maintain good housekeeping appli...\n1     internal customer handling facilitate problem ...\n2     writing progress reports updating work schedul...\n3     triage calls prioritize testing activities eff...\n4     integration projects meet business requirement...\n5     company systems meets functional requirements ...\n6     projects maintain good housekeeping improving ...\n7     reviewing quality assurance reports determine ...\n8     techniques complete tasks effectively provide ...\n9     techniques complete tasks effectively maintain...\n10    functional processes complete tasks effectivel...\n11    functional processes complete tasks effectivel...\n12    techniques complete tasks effectively maintain...\n13    techniques complete tasks effectively maintain...\n14    functional processes complete tasks effectivel...\n15    techniques complete tasks effectively maintain...\n16    techniques complete tasks effectively maintain...\n17    functional processes complete tasks effectivel...\nName: Keywords, dtype: object"
     },
     "execution_count": 41,
     "metadata": {},
     "output_type": "execute_result"
    }
   ],
   "source": [
    "text_keywords"
   ],
   "metadata": {
    "collapsed": false,
    "pycharm": {
     "name": "#%%\n"
    }
   }
  },
  {
   "cell_type": "code",
   "execution_count": 42,
   "outputs": [],
   "source": [
    "# text_keywords.to_csv('text_keywords.csv')"
   ],
   "metadata": {
    "collapsed": false,
    "pycharm": {
     "name": "#%%\n"
    }
   }
  },
  {
   "cell_type": "code",
   "execution_count": 115,
   "outputs": [],
   "source": [
    "input = \"Knowledge of operational and functional processes Completing of task with minimum no of bugs Performance-based on number of effective code lines Initiation on trying new technologies / functional process improvements / techniques complete tasks effectively Provide guidance to the team based on management direction bachelor's degree in computer science 2 years of software development experience Experience using relevant tool suites. Strong written and verbal communication and interpersonal skills. Creative problem-solving skills. Experience managing the software development lifecycle. The ability to prioritize activities and deliver projects on time and within budget. Experience working with clients and business partners. A comprehensive understanding of computer science concepts. Excellent coding skills. Extensive knowledge of agile methodologies. Strong team-building skills.\""
   ],
   "metadata": {
    "collapsed": false,
    "pycharm": {
     "name": "#%%\n"
    }
   }
  },
  {
   "cell_type": "code",
   "execution_count": 116,
   "outputs": [],
   "source": [
    "r = Rake()\n",
    "r.extract_keywords_from_text(input)\n",
    "keywords_input = r.get_ranked_phrases()"
   ],
   "metadata": {
    "collapsed": false,
    "pycharm": {
     "name": "#%%\n"
    }
   }
  },
  {
   "cell_type": "code",
   "execution_count": 117,
   "outputs": [
    {
     "data": {
      "text/plain": "['software development experience experience using relevant tool suites',\n 'techniques complete tasks effectively provide guidance',\n 'effective code lines initiation',\n 'computer science 2 years',\n 'software development lifecycle',\n 'computer science concepts',\n 'trying new technologies',\n 'management direction bachelor',\n 'functional processes completing',\n 'functional process improvements',\n 'excellent coding skills',\n 'experience working',\n 'experience managing',\n 'solving skills',\n 'interpersonal skills',\n 'building skills',\n 'within budget',\n 'verbal communication',\n 'strong written',\n 'strong team',\n 'prioritize activities',\n 'deliver projects',\n 'creative problem',\n 'comprehensive understanding',\n 'business partners',\n 'bugs performance',\n 'agile methodologies',\n 'team based',\n 'extensive knowledge',\n 'knowledge',\n 'based',\n 'time',\n 'task',\n 'operational',\n 'number',\n 'minimum',\n 'degree',\n 'clients',\n 'ability']"
     },
     "execution_count": 117,
     "metadata": {},
     "output_type": "execute_result"
    }
   ],
   "source": [
    "keywords_input"
   ],
   "metadata": {
    "collapsed": false,
    "pycharm": {
     "name": "#%%\n"
    }
   }
  },
  {
   "cell_type": "code",
   "execution_count": 118,
   "outputs": [
    {
     "data": {
      "text/plain": "'software development experience experience using relevant tool suites techniques complete tasks effectively provide guidance effective code lines initiation computer science 2 years software development lifecycle computer science concepts trying new technologies management direction bachelor functional processes completing functional process improvements excellent coding skills experience working experience managing solving skills interpersonal skills building skills within budget verbal communication strong written strong team prioritize activities deliver projects creative problem comprehensive understanding business partners bugs performance agile methodologies team based extensive knowledge knowledge based time task operational number minimum degree clients ability'"
     },
     "execution_count": 118,
     "metadata": {},
     "output_type": "execute_result"
    }
   ],
   "source": [
    "keywords_input_str = ' '.join([str(item) for item in keywords_input])\n",
    "keywords_input_str"
   ],
   "metadata": {
    "collapsed": false,
    "pycharm": {
     "name": "#%%\n"
    }
   }
  },
  {
   "cell_type": "code",
   "execution_count": 61,
   "outputs": [],
   "source": [
    "def create_dataframe(matrix, tokens):\n",
    "\n",
    "    doc_names = [f'jd_{i+1}' for i, _ in enumerate(matrix)]\n",
    "    df = pd.DataFrame(data=matrix, index=doc_names, columns=tokens)\n",
    "    return(df)"
   ],
   "metadata": {
    "collapsed": false,
    "pycharm": {
     "name": "#%%\n"
    }
   }
  },
  {
   "cell_type": "code",
   "execution_count": 119,
   "outputs": [],
   "source": [
    "# Count Vectorizer\n",
    "for x in range(len(text_keywords)):\n",
    "    data = [text_keywords.iloc[x], keywords_input_str]\n",
    "    count_vectorizer = CountVectorizer()\n",
    "    vector_matrix = count_vectorizer.fit_transform(data)\n",
    "    # cosine_similarity_matrix = cosine_similarity(vector_matrix)\n",
    "    locals()['cosine_similarity_matrix_' + str(x)] = cosine_similarity(vector_matrix)\n",
    "    if x > 0:\n",
    "        if locals()['cosine_similarity_matrix_' + str(x)][1,0] > locals()['cosine_similarity_matrix_' + str(x-1)][1,0]:\n",
    "            highest_cosine = locals()['cosine_similarity_matrix_' + str(x)]\n",
    "            jd = df_new['Job Title'][x]\n",
    "        else:\n",
    "            highest_cosine = locals()['cosine_similarity_matrix_' + str(x-1)]\n",
    "            jd = df_new['Job Title'][x-1]\n",
    "\n"
   ],
   "metadata": {
    "collapsed": false,
    "pycharm": {
     "name": "#%%\n"
    }
   }
  },
  {
   "cell_type": "code",
   "execution_count": 122,
   "outputs": [],
   "source": [
    "# TfidfVectorizer\n",
    "for x in range(len(text_keywords)):\n",
    "    data = [text_keywords.iloc[x], keywords_input_str]\n",
    "    Tfidf_vect = TfidfVectorizer()\n",
    "    vector_matrix = Tfidf_vect.fit_transform(data)\n",
    "    # cosine_similarity_matrix = cosine_similarity(vector_matrix)\n",
    "    locals()['cosine_similarity_matrix_' + str(x)] = cosine_similarity(vector_matrix)\n",
    "    if x > 0:\n",
    "        if locals()['cosine_similarity_matrix_' + str(x)][1,0] > locals()['cosine_similarity_matrix_' + str(x-1)][1,0]:\n",
    "            highest_cosine = locals()['cosine_similarity_matrix_' + str(x)]\n",
    "            jd = df_new['Job Title'][x]\n",
    "        else:\n",
    "            highest_cosine = locals()['cosine_similarity_matrix_' + str(x-1)]\n",
    "            jd = df_new['Job Title'][x-1]\n"
   ],
   "metadata": {
    "collapsed": false,
    "pycharm": {
     "name": "#%%\n"
    }
   }
  },
  {
   "cell_type": "code",
   "execution_count": 124,
   "outputs": [
    {
     "data": {
      "text/plain": "array([[1.        , 0.27927576],\n       [0.27927576, 1.        ]])"
     },
     "execution_count": 124,
     "metadata": {},
     "output_type": "execute_result"
    }
   ],
   "source": [
    "highest_cosine"
   ],
   "metadata": {
    "collapsed": false,
    "pycharm": {
     "name": "#%%\n"
    }
   }
  },
  {
   "cell_type": "code",
   "execution_count": 87,
   "outputs": [
    {
     "data": {
      "text/plain": "DeltaGenerator(_root_container=0, _provided_cursor=None, _parent=None, _block_type=None, _form_data=None)"
     },
     "execution_count": 87,
     "metadata": {},
     "output_type": "execute_result"
    }
   ],
   "source": [
    "#Add sidebar to the app\n",
    "st.sidebar.markdown(\"### My first Awesome App\")\n",
    "st.sidebar.markdown(\"Welcome to my first awesome app. This app is built using Streamlit and uses data source from redfin housing market data. I hope you enjoy!\")\n",
    "\n",
    "#Add title and subtitle to the main interface of the app\n",
    "st.title(\"U.S. Real Estate Insights\")\n",
    "st.markdown(\"Where are the hottest housing markets in the U.S.? Select the housing market metrics you are interested in and your insights are just a couple clicks away. Hover over the map to view more details.\")"
   ],
   "metadata": {
    "collapsed": false,
    "pycharm": {
     "name": "#%%\n"
    }
   }
  },
  {
   "cell_type": "code",
   "execution_count": null,
   "outputs": [],
   "source": [],
   "metadata": {
    "collapsed": false,
    "pycharm": {
     "name": "#%%\n"
    }
   }
  }
 ],
 "metadata": {
  "kernelspec": {
   "display_name": "Python 3",
   "language": "python",
   "name": "python3"
  },
  "language_info": {
   "codemirror_mode": {
    "name": "ipython",
    "version": 2
   },
   "file_extension": ".py",
   "mimetype": "text/x-python",
   "name": "python",
   "nbconvert_exporter": "python",
   "pygments_lexer": "ipython2",
   "version": "2.7.6"
  }
 },
 "nbformat": 4,
 "nbformat_minor": 0
}